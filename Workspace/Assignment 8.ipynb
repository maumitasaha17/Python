{
 "cells": [
  {
   "cell_type": "code",
   "execution_count": 25,
   "metadata": {},
   "outputs": [
    {
     "name": "stdout",
     "output_type": "stream",
     "text": [
      "Enter the count of numbers in list5\n",
      "Enter the number5\n",
      "Enter the number3\n",
      "Enter the number2\n",
      "Enter the number8\n",
      "Enter the number10\n"
     ]
    }
   ],
   "source": [
    "x=int(input(\"Enter the count of numbers in list\"))\n",
    "l=list()\n",
    "for i in range(0,x):\n",
    "    y=int(input(\"Enter the number\"))\n",
    "    l.append(y)"
   ]
  },
  {
   "cell_type": "code",
   "execution_count": 30,
   "metadata": {},
   "outputs": [],
   "source": [
    "def max_min(l):\n",
    "    sec_max=0\n",
    "    sec_min=0\n",
    "    l.sort(reverse=True)\n",
    "    print(l)\n",
    "    for i in l:\n",
    "        for j in l:\n",
    "            if j<i:\n",
    "                l.sort()\n",
    "                for i in l:\n",
    "                    for k in l:\n",
    "                        if k>i:\n",
    "                            break\n",
    "    \n",
    "    \n",
    "    return j,k"
   ]
  },
  {
   "cell_type": "code",
   "execution_count": 31,
   "metadata": {},
   "outputs": [
    {
     "name": "stdout",
     "output_type": "stream",
     "text": [
      "[10, 8, 5, 3, 2]\n",
      "[2, 3, 5, 8, 10]\n"
     ]
    },
    {
     "data": {
      "text/plain": [
       "(2, 10)"
      ]
     },
     "execution_count": 31,
     "metadata": {},
     "output_type": "execute_result"
    }
   ],
   "source": [
    "max_min(l)"
   ]
  },
  {
   "cell_type": "code",
   "execution_count": 5,
   "metadata": {},
   "outputs": [
    {
     "name": "stdout",
     "output_type": "stream",
     "text": [
      "Enter the count of numbers in list6\n",
      "Enter the numbers2\n",
      "Enter the numbers5\n",
      "Enter the numbers10\n",
      "Enter the numbers3\n",
      "Enter the numbers8\n",
      "Enter the numbers15\n"
     ]
    }
   ],
   "source": [
    "x=int(input(\"Enter the count of numbers in list\"))\n",
    "l=list()\n",
    "for i in range(0,x):\n",
    "    y=int(input(\"Enter the number\"))\n",
    "    l.append(y)"
   ]
  },
  {
   "cell_type": "code",
   "execution_count": 6,
   "metadata": {},
   "outputs": [],
   "source": [
    "def popx(l):\n",
    "    y=list()\n",
    "    for i in l:\n",
    "        j=str(i)\n",
    "        if j[len(j)-1] != '5' and j[len(j)-1] != '0':\n",
    "            y.append(j)\n",
    "    return y"
   ]
  },
  {
   "cell_type": "code",
   "execution_count": 7,
   "metadata": {},
   "outputs": [
    {
     "data": {
      "text/plain": [
       "['2', '3', '8']"
      ]
     },
     "execution_count": 7,
     "metadata": {},
     "output_type": "execute_result"
    }
   ],
   "source": [
    "popx(l)"
   ]
  },
  {
   "cell_type": "code",
   "execution_count": 8,
   "metadata": {},
   "outputs": [
    {
     "name": "stdout",
     "output_type": "stream",
     "text": [
      "Enter the count of numbers in list5\n",
      "Enter the number1\n",
      "Enter the number1\n",
      "Enter the number2\n",
      "Enter the number2\n",
      "Enter the number3\n"
     ]
    }
   ],
   "source": [
    "x=int(input(\"Enter the count of numbers in list\"))\n",
    "l=list()\n",
    "for i in range(0,x):\n",
    "    y=int(input(\"Enter the number\"))\n",
    "    l.append(y)"
   ]
  },
  {
   "cell_type": "code",
   "execution_count": 9,
   "metadata": {},
   "outputs": [],
   "source": [
    "def removeduplicates(l):\n",
    "    y=list()\n",
    "    for i in range(len(l)):\n",
    "        cnt=0\n",
    "        for j in range(len(l)):\n",
    "            if l[i-1]==l[j-1]:\n",
    "                cnt=cnt+1\n",
    "        if cnt<2:\n",
    "            y.append(l[i-1])\n",
    "    return y"
   ]
  },
  {
   "cell_type": "code",
   "execution_count": 10,
   "metadata": {},
   "outputs": [
    {
     "data": {
      "text/plain": [
       "[3]"
      ]
     },
     "execution_count": 10,
     "metadata": {},
     "output_type": "execute_result"
    }
   ],
   "source": [
    "removeduplicates(l)"
   ]
  },
  {
   "cell_type": "code",
   "execution_count": null,
   "metadata": {},
   "outputs": [],
   "source": []
  }
 ],
 "metadata": {
  "kernelspec": {
   "display_name": "Python 3",
   "language": "python",
   "name": "python3"
  },
  "language_info": {
   "codemirror_mode": {
    "name": "ipython",
    "version": 3
   },
   "file_extension": ".py",
   "mimetype": "text/x-python",
   "name": "python",
   "nbconvert_exporter": "python",
   "pygments_lexer": "ipython3",
   "version": "3.8.3"
  }
 },
 "nbformat": 4,
 "nbformat_minor": 4
}
