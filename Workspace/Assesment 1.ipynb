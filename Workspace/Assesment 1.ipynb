{
 "cells": [
  {
   "cell_type": "markdown",
   "id": "3be1bce8",
   "metadata": {},
   "source": [
    "In this assignment, given a number n, you have to write a program that generates a dictionary\n",
    "d which contains (i,i*i), where i is from 1 to n (both included).\n",
    "Then you have to just print this dictionary d."
   ]
  },
  {
   "cell_type": "code",
   "execution_count": 2,
   "id": "d1635d6a",
   "metadata": {},
   "outputs": [
    {
     "name": "stdout",
     "output_type": "stream",
     "text": [
      "Enter a number:4\n",
      "{1: 1, 2: 4, 3: 9, 4: 16}\n"
     ]
    }
   ],
   "source": [
    "n=int(input(\"Enter a number:\"))\n",
    "d={i:i*i for i in range(1,n+1)}\n",
    "print(d)"
   ]
  },
  {
   "cell_type": "code",
   "execution_count": 5,
   "id": "e5d236eb",
   "metadata": {},
   "outputs": [
    {
     "name": "stdout",
     "output_type": "stream",
     "text": [
      "8\n",
      "{1: 1, 2: 4, 3: 9, 4: 16, 5: 25, 6: 36, 7: 49, 8: 64}"
     ]
    }
   ],
   "source": [
    "n=int(input())\n",
    "d={}\n",
    "for i in range(n):\n",
    "  d[i+1]=(i+1)**2\n",
    "print(d,end=\"\")"
   ]
  },
  {
   "cell_type": "markdown",
   "id": "bf118911",
   "metadata": {},
   "source": [
    "In this program, create a list of numbers from 1 to 50 named list_1. The numbers should\n",
    "be present in the increasing order: Ex list_1 = [1,2,3,4,5,....,50]\n",
    "i.e. index zero should be 1, index one should be 2, index two should be 3 and so on."
   ]
  },
  {
   "cell_type": "code",
   "execution_count": 11,
   "id": "6886758a",
   "metadata": {},
   "outputs": [
    {
     "name": "stdout",
     "output_type": "stream",
     "text": [
      "[1, 2, 3, 4, 5, 6, 7, 8, 9, 10, 11, 12, 13, 14, 15, 16, 17, 18, 19, 20, 21, 22, 23, 24, 25, 26, 27, 28, 29, 30, 31, 32, 33, 34, 35, 36, 37, 38, 39, 40, 41, 42, 43, 44, 45, 46, 47, 48, 49, 50] "
     ]
    }
   ],
   "source": [
    "list_1 = list(range(1, 51))\n",
    "print(list_1,end = \" \")"
   ]
  },
  {
   "cell_type": "markdown",
   "id": "72fdbe67",
   "metadata": {},
   "source": [
    "Given an input of two numbers, let's say a and b, you have to print the numbers returned\n",
    "by the following command list_1[a:b]"
   ]
  },
  {
   "cell_type": "code",
   "execution_count": 40,
   "id": "37e9a78f",
   "metadata": {},
   "outputs": [
    {
     "name": "stdout",
     "output_type": "stream",
     "text": [
      "Enter the number 1 : 6\n",
      "Enter the number 2 : 10\n",
      "[7, 8, 9, 10]\n"
     ]
    }
   ],
   "source": [
    "a = int(input(\"Enter the number 1 : \"))\n",
    "b = int(input(\"Enter the number 2 : \"))\n",
    "list_1=list_1 = list(range(1, 51))\n",
    "print(list_1[a:b])\n"
   ]
  },
  {
   "cell_type": "code",
   "execution_count": null,
   "id": "da5bff3c",
   "metadata": {},
   "outputs": [],
   "source": []
  }
 ],
 "metadata": {
  "kernelspec": {
   "display_name": "Python 3",
   "language": "python",
   "name": "python3"
  },
  "language_info": {
   "codemirror_mode": {
    "name": "ipython",
    "version": 3
   },
   "file_extension": ".py",
   "mimetype": "text/x-python",
   "name": "python",
   "nbconvert_exporter": "python",
   "pygments_lexer": "ipython3",
   "version": "3.8.8"
  }
 },
 "nbformat": 4,
 "nbformat_minor": 5
}
