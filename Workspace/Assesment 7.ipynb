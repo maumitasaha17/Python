{
 "cells": [
  {
   "cell_type": "markdown",
   "id": "da68fe99",
   "metadata": {},
   "source": [
    "# Write a program to check if the number inputted by the user is a Harshad Number or not.\n"
   ]
  },
  {
   "cell_type": "code",
   "execution_count": 3,
   "id": "ef033c17",
   "metadata": {},
   "outputs": [
    {
     "name": "stdout",
     "output_type": "stream",
     "text": [
      "Enter number: 152\n",
      "152 is Harshad Number\n"
     ]
    }
   ],
   "source": [
    "number = int(input('Enter number: '))\n",
    "copy = number\n",
    "\n",
    "# Finding sum of digit\n",
    "digit_sum = 0\n",
    "\n",
    "while number:\n",
    "    digit_sum += number%10\n",
    "    number //= 10\n",
    "\n",
    "# Checking divisibility & making decision\n",
    "if copy%digit_sum == 0:\n",
    "    print('%d is Harshad Number' % (copy))\n",
    "else:\n",
    "    print('%d is Not Harshad Number' % (copy))"
   ]
  },
  {
   "cell_type": "markdown",
   "id": "2a133cdc",
   "metadata": {},
   "source": [
    "# Write a program to check if the number inputted by the user is an Armstrong Number or not.\n"
   ]
  },
  {
   "cell_type": "code",
   "execution_count": 2,
   "id": "ed1e1220",
   "metadata": {},
   "outputs": [
    {
     "name": "stdout",
     "output_type": "stream",
     "text": [
      "Enter a number: 371\n",
      "371 is an Armstrong number\n"
     ]
    }
   ],
   "source": [
    "# Python program to check if the number provided by the user is an Armstrong number or not\n",
    "# take input from the user\n",
    "num = int(input(\"Enter a number: \"))\n",
    "# initialize sum\n",
    "sum = 0\n",
    "# find the sum of the cube of each digit\n",
    "temp = num\n",
    "while temp > 0:\n",
    "   digit = temp % 10\n",
    "   sum += digit ** 3\n",
    "   temp //= 10\n",
    "# display the result\n",
    "if num == sum:\n",
    "   print(num,\"is an Armstrong number\")\n",
    "else:\n",
    "   print(num,\"is not an Armstrong number\")"
   ]
  },
  {
   "cell_type": "markdown",
   "id": "db89a5d0",
   "metadata": {},
   "source": [
    "# Write a program to check if the number inputted by the user is a Strong Number or not.\n"
   ]
  },
  {
   "cell_type": "code",
   "execution_count": 4,
   "id": "b11b9220",
   "metadata": {},
   "outputs": [
    {
     "name": "stdout",
     "output_type": "stream",
     "text": [
      "Enter a number:145\n",
      "The number is a strong number\n"
     ]
    }
   ],
   "source": [
    "sum1=0\n",
    "num=int(input(\"Enter a number:\"))\n",
    "temp=num\n",
    "while(num):\n",
    "    i=1\n",
    "    f=1\n",
    "    r=num%10\n",
    "    while(i<=r):\n",
    "        f=f*i\n",
    "        i=i+1\n",
    "    sum1=sum1+f\n",
    "    num=num//10\n",
    "if(sum1==temp):\n",
    "    print(\"The number is a strong number\")\n",
    "else:\n",
    "    print(\"The number is not a strong number\")"
   ]
  },
  {
   "cell_type": "markdown",
   "id": "f7109684",
   "metadata": {},
   "source": [
    "# Write a program to check if the number inputted by the user is a Prime Number or not.\n"
   ]
  },
  {
   "cell_type": "code",
   "execution_count": 9,
   "id": "547618dd",
   "metadata": {},
   "outputs": [
    {
     "name": "stdout",
     "output_type": "stream",
     "text": [
      "Enter any number: 5\n",
      "5 is a prime number\n"
     ]
    }
   ],
   "source": [
    "number = int(input(\"Enter any number: \"))\n",
    "\n",
    "# prime number is always greater than 1\n",
    "if number > 1:\n",
    "    for i in range(2, number):\n",
    "        if (number % i) == 0:\n",
    "            print(number, \"is not a prime number\")\n",
    "            break\n",
    "    else:\n",
    "        print(number, \"is a prime number\")\n",
    "\n",
    "# if the entered number is less than or equal to 1\n",
    "# then it is not prime number\n",
    "else:\n",
    "    print(number, \"is not a prime number\")"
   ]
  },
  {
   "cell_type": "markdown",
   "id": "ee2c7f5a",
   "metadata": {},
   "source": [
    "# Write a program to swap two numbers without using a third variable."
   ]
  },
  {
   "cell_type": "code",
   "execution_count": 10,
   "id": "2e79a9ff",
   "metadata": {},
   "outputs": [
    {
     "name": "stdout",
     "output_type": "stream",
     "text": [
      "Before swapping: \n",
      "Value of x :  5  and y :  7\n",
      "After swapping: \n",
      "Value of x :  7  and y :  5\n"
     ]
    }
   ],
   "source": [
    "x = 5\n",
    "y = 7\n",
    " \n",
    "print (\"Before swapping: \")\n",
    "print(\"Value of x : \", x, \" and y : \", y)\n",
    " \n",
    "# code to swap 'x' and 'y'\n",
    "x, y = y, x\n",
    " \n",
    "print (\"After swapping: \")\n",
    "print(\"Value of x : \", x, \" and y : \", y)"
   ]
  },
  {
   "cell_type": "code",
   "execution_count": null,
   "id": "ff06da17",
   "metadata": {},
   "outputs": [],
   "source": []
  }
 ],
 "metadata": {
  "kernelspec": {
   "display_name": "Python 3",
   "language": "python",
   "name": "python3"
  },
  "language_info": {
   "codemirror_mode": {
    "name": "ipython",
    "version": 3
   },
   "file_extension": ".py",
   "mimetype": "text/x-python",
   "name": "python",
   "nbconvert_exporter": "python",
   "pygments_lexer": "ipython3",
   "version": "3.8.8"
  }
 },
 "nbformat": 4,
 "nbformat_minor": 5
}
