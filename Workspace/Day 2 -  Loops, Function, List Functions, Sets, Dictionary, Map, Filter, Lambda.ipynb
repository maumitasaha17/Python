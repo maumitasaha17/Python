{
 "cells": [
  {
   "cell_type": "markdown",
   "id": "0c4c20fa",
   "metadata": {},
   "source": [
    "# **LOOPS** \n",
    "\n",
    "repeated again and again\n",
    "\n",
    ">for\n",
    "\n",
    ">while"
   ]
  },
  {
   "cell_type": "code",
   "execution_count": 2,
   "id": "f0e2f4b8",
   "metadata": {},
   "outputs": [
    {
     "name": "stdout",
     "output_type": "stream",
     "text": [
      "[10, 20, 30, 40, 50]\n",
      "True\n",
      "False\n",
      "False\n"
     ]
    }
   ],
   "source": [
    "l = [10,20,30,40,50]\n",
    "print(l)\n",
    "\n",
    "#to check if the number is there in the list or not\n",
    "print(40 in l) #in is called as MEMBERSHIP OPERATOR\n",
    "print(202 in l) #is 202 in l\n",
    "print(40 not in l) # is 40 not in l\n"
   ]
  },
  {
   "cell_type": "markdown",
   "id": "c739a237",
   "metadata": {},
   "source": [
    "# FOR LOOP"
   ]
  },
  {
   "cell_type": "raw",
   "id": "9fa46851",
   "metadata": {},
   "source": [
    "#for loop SYNTAX:\n",
    "\n",
    "for var in iterable:\n",
    "    do this\n",
    "    do this"
   ]
  },
  {
   "cell_type": "code",
   "execution_count": 3,
   "id": "3be96972",
   "metadata": {},
   "outputs": [
    {
     "name": "stdout",
     "output_type": "stream",
     "text": [
      "10\n",
      "20\n",
      "30\n",
      "40\n",
      "50\n"
     ]
    }
   ],
   "source": [
    "#list\n",
    "l = [10,20,30,40,50]\n",
    "\n",
    "for i in l: #i is variable \n",
    "    #is 10 in the l \n",
    "    #is 20 in the l \n",
    "    #is 30 in the l \n",
    "    #is 40 in the l \n",
    "    #is 50 in the l \n",
    "    #is 60 in the l - no so this loop will break here\n",
    "    print(i)"
   ]
  },
  {
   "cell_type": "code",
   "execution_count": 13,
   "id": "9ac55b59",
   "metadata": {},
   "outputs": [
    {
     "name": "stdout",
     "output_type": "stream",
     "text": [
      "10\n",
      "20\n",
      "30\n",
      "40\n",
      "50\n"
     ]
    }
   ],
   "source": [
    "#tuples\n",
    "l = (10,20,30,40,50)\n",
    "\n",
    "for i in l:\n",
    "    print(i)\n"
   ]
  },
  {
   "cell_type": "code",
   "execution_count": 4,
   "id": "a8b57c17",
   "metadata": {},
   "outputs": [
    {
     "name": "stdout",
     "output_type": "stream",
     "text": [
      "10\n",
      "20\n",
      "30\n",
      "40\n",
      "50\n"
     ]
    }
   ],
   "source": [
    "#any variable is irrable\n",
    "l = [10,20,30,40,50]\n",
    "\n",
    "for mau in l:\n",
    "    print(mau)"
   ]
  },
  {
   "cell_type": "code",
   "execution_count": 5,
   "id": "85dfd474",
   "metadata": {},
   "outputs": [
    {
     "name": "stdout",
     "output_type": "stream",
     "text": [
      "10\n",
      "20\n",
      "30\n",
      "40\n",
      "50\n"
     ]
    }
   ],
   "source": [
    "# you can also write it as\n",
    "for mau in [10,20,30,40,50]:\n",
    "    print(mau)"
   ]
  },
  {
   "cell_type": "code",
   "execution_count": 6,
   "id": "bf435bea",
   "metadata": {},
   "outputs": [
    {
     "name": "stdout",
     "output_type": "stream",
     "text": [
      "10\n",
      "20\n",
      "30\n",
      "40\n",
      "50\n",
      "60\n",
      "70\n",
      "80\n",
      "90\n",
      "100\n"
     ]
    }
   ],
   "source": [
    "l = [10,20,30,40,50,60,70,80,90,100]\n",
    "\n",
    "for i in l:\n",
    "    print(i)\n",
    "#doesnt display in a horrizontal line so"
   ]
  },
  {
   "cell_type": "code",
   "execution_count": 18,
   "id": "5472c2ac",
   "metadata": {},
   "outputs": [
    {
     "name": "stdout",
     "output_type": "stream",
     "text": [
      "10\n",
      "20\n",
      "30\n",
      "40\n",
      "50\n",
      "60\n",
      "70\n",
      "80\n",
      "90\n",
      "100\n"
     ]
    }
   ],
   "source": [
    "#if so many values are ther then\n",
    "l = [10,20,30,40,50,60,70,80,90,100]\n",
    "\n",
    "for i in l:\n",
    "    print(i, end = \"\\n\") # \\n - new line"
   ]
  },
  {
   "cell_type": "code",
   "execution_count": 19,
   "id": "fe37afd4",
   "metadata": {},
   "outputs": [
    {
     "name": "stdout",
     "output_type": "stream",
     "text": [
      "10\t20\t30\t40\t50\t60\t70\t80\t90\t100\t"
     ]
    }
   ],
   "source": [
    "#if so many values are ther then\n",
    "l = [10,20,30,40,50,60,70,80,90,100]\n",
    "\n",
    "for i in l:\n",
    "    print(i, end = \"\\t\") # \\t - tab"
   ]
  },
  {
   "cell_type": "code",
   "execution_count": 21,
   "id": "8a764fb4",
   "metadata": {},
   "outputs": [
    {
     "name": "stdout",
     "output_type": "stream",
     "text": [
      "10 20 30 40 50 60 70 80 90 100 "
     ]
    }
   ],
   "source": [
    "l = [10,20,30,40,50,60,70,80,90,100]\n",
    "\n",
    "for i in l:\n",
    "    print(i, end = \" \") # leave blank to get it in a single line"
   ]
  },
  {
   "cell_type": "code",
   "execution_count": 22,
   "id": "4bf027ef",
   "metadata": {},
   "outputs": [
    {
     "name": "stdout",
     "output_type": "stream",
     "text": [
      "10++++++20++++++30++++++40++++++50++++++60++++++70++++++80++++++90++++++100++++++"
     ]
    }
   ],
   "source": [
    "l = [10,20,30,40,50,60,70,80,90,100]\n",
    "\n",
    "for i in l:\n",
    "    print(i, end = \"++++++\")"
   ]
  },
  {
   "cell_type": "markdown",
   "id": "6f2b8f24",
   "metadata": {},
   "source": [
    "# **range()**\n",
    "\n",
    "used to generate a set of numbers\n",
    "\n",
    "range(n) - generate numbers from 0 to (n-1)"
   ]
  },
  {
   "cell_type": "code",
   "execution_count": 23,
   "id": "7e4a9bd4",
   "metadata": {},
   "outputs": [
    {
     "data": {
      "text/plain": [
       "range(0, 5)"
      ]
     },
     "execution_count": 23,
     "metadata": {},
     "output_type": "execute_result"
    }
   ],
   "source": [
    "range(5)\n",
    "#it will generate numbers from 0 to (5-1)"
   ]
  },
  {
   "cell_type": "code",
   "execution_count": 24,
   "id": "615a3abe",
   "metadata": {},
   "outputs": [
    {
     "name": "stdout",
     "output_type": "stream",
     "text": [
      "0 1 2 3 4 "
     ]
    }
   ],
   "source": [
    "#range() only works with for loop\n",
    "\n",
    "for i in range(5):\n",
    "    print(i,end=\" \")"
   ]
  },
  {
   "cell_type": "code",
   "execution_count": 25,
   "id": "ee1f7399",
   "metadata": {},
   "outputs": [
    {
     "name": "stdout",
     "output_type": "stream",
     "text": [
      "0 1 2 3 4 5 6 7 8 9 10 11 12 13 14 15 16 17 18 19 20 21 22 23 24 25 26 27 28 29 30 31 32 33 34 35 36 37 38 39 40 41 42 43 44 45 46 47 48 49 "
     ]
    }
   ],
   "source": [
    "for i in range(50):\n",
    "    print(i,end=\" \")"
   ]
  },
  {
   "cell_type": "code",
   "execution_count": 7,
   "id": "84e624b5",
   "metadata": {},
   "outputs": [
    {
     "name": "stdout",
     "output_type": "stream",
     "text": [
      "0 is EVEN \n",
      "1 is ODD \n",
      "2 is EVEN \n",
      "3 is ODD \n",
      "4 is EVEN \n",
      "5 is ODD \n",
      "6 is EVEN \n",
      "7 is ODD \n",
      "8 is EVEN \n",
      "9 is ODD \n",
      "10 is EVEN \n",
      "11 is ODD \n",
      "12 is EVEN \n",
      "13 is ODD \n",
      "14 is EVEN \n",
      "15 is ODD \n",
      "16 is EVEN \n",
      "17 is ODD \n",
      "18 is EVEN \n",
      "19 is ODD \n",
      "20 is EVEN \n",
      "21 is ODD \n",
      "22 is EVEN \n",
      "23 is ODD \n",
      "24 is EVEN \n",
      "25 is ODD \n",
      "26 is EVEN \n",
      "27 is ODD \n",
      "28 is EVEN \n",
      "29 is ODD \n",
      "30 is EVEN \n",
      "31 is ODD \n",
      "32 is EVEN \n",
      "33 is ODD \n",
      "34 is EVEN \n",
      "35 is ODD \n",
      "36 is EVEN \n",
      "37 is ODD \n",
      "38 is EVEN \n",
      "39 is ODD \n",
      "40 is EVEN \n",
      "41 is ODD \n",
      "42 is EVEN \n",
      "43 is ODD \n",
      "44 is EVEN \n",
      "45 is ODD \n",
      "46 is EVEN \n",
      "47 is ODD \n",
      "48 is EVEN \n",
      "49 is ODD \n"
     ]
    }
   ],
   "source": [
    "for i in range(50):\n",
    "    if i%2==0:\n",
    "        print(i,\"is EVEN \")\n",
    "    else:\n",
    "        print(i,\"is ODD \")"
   ]
  },
  {
   "cell_type": "code",
   "execution_count": 26,
   "id": "192f1340",
   "metadata": {},
   "outputs": [
    {
     "name": "stdout",
     "output_type": "stream",
     "text": [
      "0 1 2 3 4 "
     ]
    }
   ],
   "source": [
    "for i in range(5):\n",
    "    print(i,end=\" \")"
   ]
  },
  {
   "cell_type": "code",
   "execution_count": 27,
   "id": "663e777f",
   "metadata": {},
   "outputs": [
    {
     "name": "stdout",
     "output_type": "stream",
     "text": [
      "0 1 2 3 4 "
     ]
    }
   ],
   "source": [
    "#specify from 0 to 5\n",
    "for i in range(0,5):\n",
    "    print(i,end=\" \")"
   ]
  },
  {
   "cell_type": "code",
   "execution_count": 28,
   "id": "1f509eba",
   "metadata": {},
   "outputs": [
    {
     "name": "stdout",
     "output_type": "stream",
     "text": [
      "1 2 3 4 "
     ]
    }
   ],
   "source": [
    "#specify from 1 to 5\n",
    "for i in range(1,5): # it goes from 1 to (5-1)\n",
    "    print(i,end=\" \")"
   ]
  },
  {
   "cell_type": "code",
   "execution_count": 29,
   "id": "1bc96515",
   "metadata": {},
   "outputs": [
    {
     "name": "stdout",
     "output_type": "stream",
     "text": [
      "10 11 12 13 14 15 16 17 18 19 20 21 22 "
     ]
    }
   ],
   "source": [
    "#specify from 10 to 23\n",
    "for i in range(10,23):\n",
    "    print(i,end=\" \")"
   ]
  },
  {
   "cell_type": "code",
   "execution_count": 30,
   "id": "bc96fe99",
   "metadata": {},
   "outputs": [
    {
     "name": "stdout",
     "output_type": "stream",
     "text": [
      "1 2 3 4 5 6 7 8 9 "
     ]
    }
   ],
   "source": [
    "#specify from 1 to 10\n",
    "for i in range(1,10):\n",
    "    print(i,end=\" \")"
   ]
  },
  {
   "cell_type": "code",
   "execution_count": 9,
   "id": "a6d89f26",
   "metadata": {},
   "outputs": [
    {
     "name": "stdout",
     "output_type": "stream",
     "text": [
      "1 2 3 4 5 6 7 8 9 "
     ]
    }
   ],
   "source": [
    "#STEP SIZE - the 3rd parameter which is specified \n",
    "for i in range(1,10,1): #after 1 steps values are considered\n",
    "    print(i,end=\" \")"
   ]
  },
  {
   "cell_type": "code",
   "execution_count": 32,
   "id": "2e9f4cb3",
   "metadata": {},
   "outputs": [
    {
     "name": "stdout",
     "output_type": "stream",
     "text": [
      "1 3 5 7 9 "
     ]
    }
   ],
   "source": [
    "#STEP SIZE\n",
    "\n",
    "for i in range(1,10,2): #after 2 steps values are considered\n",
    "    print(i,end=\" \")"
   ]
  },
  {
   "cell_type": "code",
   "execution_count": 33,
   "id": "d1616134",
   "metadata": {},
   "outputs": [
    {
     "name": "stdout",
     "output_type": "stream",
     "text": [
      "1 4 7 "
     ]
    }
   ],
   "source": [
    "#STEP SIZE\n",
    "for i in range(1,10,3):#after 3 steps values are considered\n",
    "    print(i,end=\" \")"
   ]
  },
  {
   "cell_type": "markdown",
   "id": "a216aa3f",
   "metadata": {},
   "source": [
    "# WHILE LOOP"
   ]
  },
  {
   "cell_type": "raw",
   "id": "fa346f1b",
   "metadata": {},
   "source": [
    "#while loop syntax:\n",
    "\n",
    "initialization\n",
    "while condition:\n",
    "    do this\n",
    "    do this\n",
    "    increment/decrement"
   ]
  },
  {
   "cell_type": "code",
   "execution_count": 10,
   "id": "ba9b7ecc",
   "metadata": {},
   "outputs": [
    {
     "name": "stdout",
     "output_type": "stream",
     "text": [
      "1 2 3 4 5 "
     ]
    }
   ],
   "source": [
    "#Program to print Natural no. from 1 to 5\n",
    "\n",
    "i = 1 #no automated behaviour so it starts from 1 and then i+1, if it is there and is less than or equal to 5 then it is printed\n",
    "\n",
    "while i<=5:\n",
    "    print(i,end=\" \")\n",
    "    i = i+1"
   ]
  },
  {
   "cell_type": "markdown",
   "id": "d473f5d5",
   "metadata": {},
   "source": [
    "**Functions**\n",
    "\n",
    "Two types:\n",
    ">build-in\n",
    "\n",
    ">user defined function"
   ]
  },
  {
   "cell_type": "markdown",
   "id": "98ccc709",
   "metadata": {},
   "source": [
    "# BUILD-IN"
   ]
  },
  {
   "cell_type": "code",
   "execution_count": 13,
   "id": "5c4846d2",
   "metadata": {},
   "outputs": [
    {
     "name": "stdout",
     "output_type": "stream",
     "text": [
      "Hello Mau\n",
      "<class 'int'>\n",
      "8\n"
     ]
    }
   ],
   "source": [
    "#Build-in - python konows this functions\n",
    "print(\"Hello Mau\")\n",
    "print(type(99))\n",
    "print(pow(2,3)) #power function"
   ]
  },
  {
   "cell_type": "code",
   "execution_count": 15,
   "id": "8e60892e",
   "metadata": {},
   "outputs": [
    {
     "data": {
      "text/plain": [
       "0.8509035245341184"
      ]
     },
     "execution_count": 15,
     "metadata": {},
     "output_type": "execute_result"
    }
   ],
   "source": [
    "#calling/import math module\n",
    "import math\n",
    "math.sin(45)"
   ]
  },
  {
   "cell_type": "code",
   "execution_count": 16,
   "id": "5be9f117",
   "metadata": {},
   "outputs": [],
   "source": [
    "import math as m"
   ]
  },
  {
   "cell_type": "code",
   "execution_count": 17,
   "id": "4bc63e84",
   "metadata": {},
   "outputs": [
    {
     "name": "stdout",
     "output_type": "stream",
     "text": [
      "0.8509035245341184\n",
      "0.5253219888177297\n",
      "3.8066624897703196\n",
      "1.6197751905438615\n",
      "3.4934271057485095e+19\n",
      "120\n",
      "243.0\n"
     ]
    }
   ],
   "source": [
    "#Math function - module impact\n",
    "\n",
    "print(m.sin(45))\n",
    "print(m.cos(45))\n",
    "print(m.log(45))\n",
    "print(m.tan(45))\n",
    "print(m.exp(45))\n",
    "print(m.factorial(5))\n",
    "print(m.pow(3,5))"
   ]
  },
  {
   "cell_type": "code",
   "execution_count": 18,
   "id": "27bb5c8c",
   "metadata": {},
   "outputs": [
    {
     "name": "stdout",
     "output_type": "stream",
     "text": [
      "Help on built-in module math:\n",
      "\n",
      "NAME\n",
      "    math\n",
      "\n",
      "DESCRIPTION\n",
      "    This module provides access to the mathematical functions\n",
      "    defined by the C standard.\n",
      "\n",
      "FUNCTIONS\n",
      "    acos(x, /)\n",
      "        Return the arc cosine (measured in radians) of x.\n",
      "    \n",
      "    acosh(x, /)\n",
      "        Return the inverse hyperbolic cosine of x.\n",
      "    \n",
      "    asin(x, /)\n",
      "        Return the arc sine (measured in radians) of x.\n",
      "    \n",
      "    asinh(x, /)\n",
      "        Return the inverse hyperbolic sine of x.\n",
      "    \n",
      "    atan(x, /)\n",
      "        Return the arc tangent (measured in radians) of x.\n",
      "    \n",
      "    atan2(y, x, /)\n",
      "        Return the arc tangent (measured in radians) of y/x.\n",
      "        \n",
      "        Unlike atan(y/x), the signs of both x and y are considered.\n",
      "    \n",
      "    atanh(x, /)\n",
      "        Return the inverse hyperbolic tangent of x.\n",
      "    \n",
      "    ceil(x, /)\n",
      "        Return the ceiling of x as an Integral.\n",
      "        \n",
      "        This is the smallest integer >= x.\n",
      "    \n",
      "    comb(n, k, /)\n",
      "        Number of ways to choose k items from n items without repetition and without order.\n",
      "        \n",
      "        Evaluates to n! / (k! * (n - k)!) when k <= n and evaluates\n",
      "        to zero when k > n.\n",
      "        \n",
      "        Also called the binomial coefficient because it is equivalent\n",
      "        to the coefficient of k-th term in polynomial expansion of the\n",
      "        expression (1 + x)**n.\n",
      "        \n",
      "        Raises TypeError if either of the arguments are not integers.\n",
      "        Raises ValueError if either of the arguments are negative.\n",
      "    \n",
      "    copysign(x, y, /)\n",
      "        Return a float with the magnitude (absolute value) of x but the sign of y.\n",
      "        \n",
      "        On platforms that support signed zeros, copysign(1.0, -0.0)\n",
      "        returns -1.0.\n",
      "    \n",
      "    cos(x, /)\n",
      "        Return the cosine of x (measured in radians).\n",
      "    \n",
      "    cosh(x, /)\n",
      "        Return the hyperbolic cosine of x.\n",
      "    \n",
      "    degrees(x, /)\n",
      "        Convert angle x from radians to degrees.\n",
      "    \n",
      "    dist(p, q, /)\n",
      "        Return the Euclidean distance between two points p and q.\n",
      "        \n",
      "        The points should be specified as sequences (or iterables) of\n",
      "        coordinates.  Both inputs must have the same dimension.\n",
      "        \n",
      "        Roughly equivalent to:\n",
      "            sqrt(sum((px - qx) ** 2.0 for px, qx in zip(p, q)))\n",
      "    \n",
      "    erf(x, /)\n",
      "        Error function at x.\n",
      "    \n",
      "    erfc(x, /)\n",
      "        Complementary error function at x.\n",
      "    \n",
      "    exp(x, /)\n",
      "        Return e raised to the power of x.\n",
      "    \n",
      "    expm1(x, /)\n",
      "        Return exp(x)-1.\n",
      "        \n",
      "        This function avoids the loss of precision involved in the direct evaluation of exp(x)-1 for small x.\n",
      "    \n",
      "    fabs(x, /)\n",
      "        Return the absolute value of the float x.\n",
      "    \n",
      "    factorial(x, /)\n",
      "        Find x!.\n",
      "        \n",
      "        Raise a ValueError if x is negative or non-integral.\n",
      "    \n",
      "    floor(x, /)\n",
      "        Return the floor of x as an Integral.\n",
      "        \n",
      "        This is the largest integer <= x.\n",
      "    \n",
      "    fmod(x, y, /)\n",
      "        Return fmod(x, y), according to platform C.\n",
      "        \n",
      "        x % y may differ.\n",
      "    \n",
      "    frexp(x, /)\n",
      "        Return the mantissa and exponent of x, as pair (m, e).\n",
      "        \n",
      "        m is a float and e is an int, such that x = m * 2.**e.\n",
      "        If x is 0, m and e are both 0.  Else 0.5 <= abs(m) < 1.0.\n",
      "    \n",
      "    fsum(seq, /)\n",
      "        Return an accurate floating point sum of values in the iterable seq.\n",
      "        \n",
      "        Assumes IEEE-754 floating point arithmetic.\n",
      "    \n",
      "    gamma(x, /)\n",
      "        Gamma function at x.\n",
      "    \n",
      "    gcd(x, y, /)\n",
      "        greatest common divisor of x and y\n",
      "    \n",
      "    hypot(...)\n",
      "        hypot(*coordinates) -> value\n",
      "        \n",
      "        Multidimensional Euclidean distance from the origin to a point.\n",
      "        \n",
      "        Roughly equivalent to:\n",
      "            sqrt(sum(x**2 for x in coordinates))\n",
      "        \n",
      "        For a two dimensional point (x, y), gives the hypotenuse\n",
      "        using the Pythagorean theorem:  sqrt(x*x + y*y).\n",
      "        \n",
      "        For example, the hypotenuse of a 3/4/5 right triangle is:\n",
      "        \n",
      "            >>> hypot(3.0, 4.0)\n",
      "            5.0\n",
      "    \n",
      "    isclose(a, b, *, rel_tol=1e-09, abs_tol=0.0)\n",
      "        Determine whether two floating point numbers are close in value.\n",
      "        \n",
      "          rel_tol\n",
      "            maximum difference for being considered \"close\", relative to the\n",
      "            magnitude of the input values\n",
      "          abs_tol\n",
      "            maximum difference for being considered \"close\", regardless of the\n",
      "            magnitude of the input values\n",
      "        \n",
      "        Return True if a is close in value to b, and False otherwise.\n",
      "        \n",
      "        For the values to be considered close, the difference between them\n",
      "        must be smaller than at least one of the tolerances.\n",
      "        \n",
      "        -inf, inf and NaN behave similarly to the IEEE 754 Standard.  That\n",
      "        is, NaN is not close to anything, even itself.  inf and -inf are\n",
      "        only close to themselves.\n",
      "    \n",
      "    isfinite(x, /)\n",
      "        Return True if x is neither an infinity nor a NaN, and False otherwise.\n",
      "    \n",
      "    isinf(x, /)\n",
      "        Return True if x is a positive or negative infinity, and False otherwise.\n",
      "    \n",
      "    isnan(x, /)\n",
      "        Return True if x is a NaN (not a number), and False otherwise.\n",
      "    \n",
      "    isqrt(n, /)\n",
      "        Return the integer part of the square root of the input.\n",
      "    \n",
      "    ldexp(x, i, /)\n",
      "        Return x * (2**i).\n",
      "        \n",
      "        This is essentially the inverse of frexp().\n",
      "    \n",
      "    lgamma(x, /)\n",
      "        Natural logarithm of absolute value of Gamma function at x.\n",
      "    \n",
      "    log(...)\n",
      "        log(x, [base=math.e])\n",
      "        Return the logarithm of x to the given base.\n",
      "        \n",
      "        If the base not specified, returns the natural logarithm (base e) of x.\n",
      "    \n",
      "    log10(x, /)\n",
      "        Return the base 10 logarithm of x.\n",
      "    \n",
      "    log1p(x, /)\n",
      "        Return the natural logarithm of 1+x (base e).\n",
      "        \n",
      "        The result is computed in a way which is accurate for x near zero.\n",
      "    \n",
      "    log2(x, /)\n",
      "        Return the base 2 logarithm of x.\n",
      "    \n",
      "    modf(x, /)\n",
      "        Return the fractional and integer parts of x.\n",
      "        \n",
      "        Both results carry the sign of x and are floats.\n",
      "    \n",
      "    perm(n, k=None, /)\n",
      "        Number of ways to choose k items from n items without repetition and with order.\n",
      "        \n",
      "        Evaluates to n! / (n - k)! when k <= n and evaluates\n",
      "        to zero when k > n.\n",
      "        \n",
      "        If k is not specified or is None, then k defaults to n\n",
      "        and the function returns n!.\n",
      "        \n",
      "        Raises TypeError if either of the arguments are not integers.\n",
      "        Raises ValueError if either of the arguments are negative.\n",
      "    \n",
      "    pow(x, y, /)\n",
      "        Return x**y (x to the power of y).\n",
      "    \n",
      "    prod(iterable, /, *, start=1)\n",
      "        Calculate the product of all the elements in the input iterable.\n",
      "        \n",
      "        The default start value for the product is 1.\n",
      "        \n",
      "        When the iterable is empty, return the start value.  This function is\n",
      "        intended specifically for use with numeric values and may reject\n",
      "        non-numeric types.\n",
      "    \n",
      "    radians(x, /)\n",
      "        Convert angle x from degrees to radians.\n",
      "    \n",
      "    remainder(x, y, /)\n",
      "        Difference between x and the closest integer multiple of y.\n",
      "        \n",
      "        Return x - n*y where n*y is the closest integer multiple of y.\n",
      "        In the case where x is exactly halfway between two multiples of\n",
      "        y, the nearest even value of n is used. The result is always exact.\n",
      "    \n",
      "    sin(x, /)\n",
      "        Return the sine of x (measured in radians).\n",
      "    \n",
      "    sinh(x, /)\n",
      "        Return the hyperbolic sine of x.\n",
      "    \n",
      "    sqrt(x, /)\n",
      "        Return the square root of x.\n",
      "    \n",
      "    tan(x, /)\n",
      "        Return the tangent of x (measured in radians).\n",
      "    \n",
      "    tanh(x, /)\n",
      "        Return the hyperbolic tangent of x.\n",
      "    \n",
      "    trunc(x, /)\n",
      "        Truncates the Real x to the nearest Integral toward 0.\n",
      "        \n",
      "        Uses the __trunc__ magic method.\n",
      "\n",
      "DATA\n",
      "    e = 2.718281828459045\n",
      "    inf = inf\n",
      "    nan = nan\n",
      "    pi = 3.141592653589793\n",
      "    tau = 6.283185307179586\n",
      "\n",
      "FILE\n",
      "    (built-in)\n",
      "\n",
      "\n"
     ]
    }
   ],
   "source": [
    "help(m) #to know math function"
   ]
  },
  {
   "cell_type": "markdown",
   "id": "f817c254",
   "metadata": {},
   "source": [
    "# USER-DEFINED FUNCTION"
   ]
  },
  {
   "cell_type": "code",
   "execution_count": 20,
   "id": "0001ac5a",
   "metadata": {},
   "outputs": [],
   "source": [
    "#user defined functions\n",
    "#def is used for defining  a function\n",
    "\n",
    "#def name of fn():\n",
    "def greet():\n",
    "    print(\"Hello\")\n",
    "    print(\"Thank you\")\n",
    "#this will not print anything unless and untill i call it"
   ]
  },
  {
   "cell_type": "code",
   "execution_count": 21,
   "id": "4c8040a1",
   "metadata": {},
   "outputs": [
    {
     "name": "stdout",
     "output_type": "stream",
     "text": [
      "Hello\n",
      "Thank you\n"
     ]
    }
   ],
   "source": [
    "greet()"
   ]
  },
  {
   "cell_type": "code",
   "execution_count": 48,
   "id": "a987de3a",
   "metadata": {},
   "outputs": [
    {
     "name": "stdout",
     "output_type": "stream",
     "text": [
      "0\n",
      "1\n",
      "2\n",
      "3\n",
      "4\n"
     ]
    }
   ],
   "source": [
    "for i in range(5):\n",
    "    print(i)"
   ]
  },
  {
   "cell_type": "code",
   "execution_count": 49,
   "id": "ea28cafe",
   "metadata": {},
   "outputs": [
    {
     "name": "stdout",
     "output_type": "stream",
     "text": [
      "Hello\n",
      "Thank you\n",
      "Hello\n",
      "Thank you\n",
      "Hello\n",
      "Thank you\n",
      "Hello\n",
      "Thank you\n",
      "Hello\n",
      "Thank you\n"
     ]
    }
   ],
   "source": [
    "for i in range(5):\n",
    "    greet() \n",
    "#values already defined in greet is being printed 5 times"
   ]
  },
  {
   "cell_type": "code",
   "execution_count": 22,
   "id": "9f2694c6",
   "metadata": {},
   "outputs": [
    {
     "name": "stdout",
     "output_type": "stream",
     "text": [
      "Hello\n",
      "Thank you\n"
     ]
    }
   ],
   "source": [
    "greet()"
   ]
  },
  {
   "cell_type": "code",
   "execution_count": 23,
   "id": "38b6d690",
   "metadata": {},
   "outputs": [
    {
     "name": "stdout",
     "output_type": "stream",
     "text": [
      "I recieved Mau\n",
      "I recieved 100\n",
      "I recieved 6\n"
     ]
    }
   ],
   "source": [
    "#parameters passing in the console\n",
    "\n",
    "def mno(a): #accepting some number as a parameter\n",
    "    print(\"I recieved\",a)\n",
    "mno(\"Mau\") # variable a saves Mau\n",
    "mno(100) # variable a saves 100\n",
    "mno(2+4)# variable a saves 2+4"
   ]
  },
  {
   "cell_type": "code",
   "execution_count": 25,
   "id": "b9f1512c",
   "metadata": {},
   "outputs": [
    {
     "name": "stdout",
     "output_type": "stream",
     "text": [
      "6\n",
      "-4\n",
      "79.23657800000001\n",
      "mau saha\n"
     ]
    }
   ],
   "source": [
    "#Add of 2 no. using functions\n",
    "\n",
    "def addn(a,b):\n",
    "    c=a+b\n",
    "    print(c)\n",
    "    \n",
    "addn(1,5)\n",
    "addn(5,-9)\n",
    "addn(35.56,43.676578)\n",
    "addn(\"mau\",\" saha\") #Stings can never be added. therefore mau saha is concatinated together"
   ]
  },
  {
   "cell_type": "code",
   "execution_count": 55,
   "id": "b32995a1",
   "metadata": {},
   "outputs": [],
   "source": [
    "#Return values using functions\n",
    "\n",
    "def addn(a,b):\n",
    "    c=a+b\n",
    "    return c"
   ]
  },
  {
   "cell_type": "code",
   "execution_count": 57,
   "id": "ec96f4dd",
   "metadata": {},
   "outputs": [
    {
     "name": "stdout",
     "output_type": "stream",
     "text": [
      "20\n"
     ]
    }
   ],
   "source": [
    "res = addn(12,8)\n",
    "print(res)"
   ]
  },
  {
   "cell_type": "markdown",
   "id": "147b0fd4",
   "metadata": {},
   "source": [
    "# **List functions**\n"
   ]
  },
  {
   "cell_type": "code",
   "execution_count": 67,
   "id": "7ade2269",
   "metadata": {},
   "outputs": [
    {
     "name": "stdout",
     "output_type": "stream",
     "text": [
      "[10, 20, 30, 40, 50]\n",
      "[10, 20, 30, 40, 50, 'Mau']\n",
      "[10, 30, 40, 50, 'Mau']\n",
      "[10, 30, 40, 50, 'Mau', 34, 565, 7678, 678]\n",
      "[10, 30, 40, 50, 34, 565, 7678, 678]\n",
      "[10, 30, 34, 40, 50, 565, 678, 7678]\n",
      "[10, 30, 34, 40, 50, 565, 678, 7678]\n",
      "[7678, 678, 565, 50, 40, 34, 30, 10]\n",
      "[10, 30, 34, 40, 50, 565, 678, 7678]\n",
      "[7678, 678, 565, 50, 40, 34, 30, 10]\n",
      "2\n"
     ]
    }
   ],
   "source": [
    "l = [10,20,30,40,50]\n",
    "print(l)\n",
    "l.append(\"Mau\") # add something to the list\n",
    "print(l)\n",
    "l.remove(20) #remove anything from the list\n",
    "print(l)\n",
    "l.extend([34,565,7678,678]) #add more items or something pass it in the form of list\n",
    "print(l)\n",
    "l.remove(\"Mau\") #remove mau from the list before sorting\n",
    "print(l)\n",
    "l.sort() #sorting list\n",
    "print(l)\n",
    "l = [10, 30, 34, 40, 50, 565, 678, 7678] #restore it back in unsorted order\n",
    "print(l)\n",
    "l.sort(reverse=True) # decending order\n",
    "print(l)\n",
    "l = [10, 30, 34, 40, 50, 565, 678, 7678] \n",
    "print(l)\n",
    "l.reverse() #reverse the list\n",
    "print(l)\n",
    "print(l.index(565)) #index no of the value"
   ]
  },
  {
   "cell_type": "markdown",
   "id": "46e3fcca",
   "metadata": {},
   "source": [
    "https://docs.python.org/3/tutorial/datastructures.html\n",
    "\n",
    "https://www.w3schools.com/python/python_ref_list.asp"
   ]
  },
  {
   "cell_type": "markdown",
   "id": "cd2b5e19",
   "metadata": {},
   "source": [
    "**Note** : There are no functions of tuples"
   ]
  },
  {
   "cell_type": "markdown",
   "id": "9ddb05ba",
   "metadata": {},
   "source": [
    "# NOT LIST/TUPLE FUNCTIONS"
   ]
  },
  {
   "cell_type": "code",
   "execution_count": 68,
   "id": "4f929d01",
   "metadata": {},
   "outputs": [
    {
     "name": "stdout",
     "output_type": "stream",
     "text": [
      "[7678, 678, 565, 50, 40, 34, 30, 10]\n"
     ]
    }
   ],
   "source": [
    "print(l)"
   ]
  },
  {
   "cell_type": "code",
   "execution_count": 26,
   "id": "51dd5af5",
   "metadata": {},
   "outputs": [
    {
     "name": "stdout",
     "output_type": "stream",
     "text": [
      "9085\n",
      "8\n",
      "1135.625\n",
      "7678\n",
      "10\n"
     ]
    }
   ],
   "source": [
    "l = [7678, 678, 565, 50, 40, 34, 30, 10]\n",
    "\n",
    "#all the functions in this cell are generic functions \n",
    "#i.e they are not list/tuple function\n",
    "print(sum(l))\n",
    "print(len(l))\n",
    "print(sum(l)/len(l)) #avg\n",
    "print(max(l))\n",
    "print(min(l))"
   ]
  },
  {
   "cell_type": "code",
   "execution_count": 73,
   "id": "418bd0e9",
   "metadata": {},
   "outputs": [
    {
     "name": "stdout",
     "output_type": "stream",
     "text": [
      "9085\n",
      "8\n",
      "1135.625\n",
      "7678\n",
      "10\n"
     ]
    }
   ],
   "source": [
    "l = (7678, 678, 565, 50, 40, 34, 30, 10)\n",
    "\n",
    "#all the functions in this cell are generic functions i.e they are not list/tuple function\n",
    "print(sum(l))\n",
    "print(len(l))\n",
    "print(sum(l)/len(l)) #avg\n",
    "print(max(l))\n",
    "print(min(l))"
   ]
  },
  {
   "cell_type": "markdown",
   "id": "873b67cc",
   "metadata": {},
   "source": [
    "# SETS\n",
    "\n",
    "A set is a collection which is unordered and unindexed.\n",
    "\n",
    "It is saved using {} \n",
    "\n",
    "It never saves duplicate values\n"
   ]
  },
  {
   "cell_type": "code",
   "execution_count": 29,
   "id": "3cba1f76",
   "metadata": {},
   "outputs": [
    {
     "name": "stdout",
     "output_type": "stream",
     "text": [
      "{'mango', 'banana', 'apple', 'pineapple', 'cherries'}\n"
     ]
    }
   ],
   "source": [
    "s = {\"apple\",\"banana\",\"mango\",\"cherries\",\"pineapple\"}\n",
    "print(s)\n",
    "#not printing in order and is unindexed"
   ]
  },
  {
   "cell_type": "code",
   "execution_count": 76,
   "id": "85bfaf59",
   "metadata": {},
   "outputs": [
    {
     "name": "stdout",
     "output_type": "stream",
     "text": [
      "{'apple', 'mango', 'pineapple', 'banana', 'cherries'}\n"
     ]
    }
   ],
   "source": [
    "#sets store only unique values\n",
    "s={\"apple\",\"banana\",\"mango\",\"cherries\",\"pineapple\",\"apple\",\"banana\",\"mango\",\"cherries\",\"pineapple\",\"apple\",\"banana\",\"mango\",\"cherries\",\"pineapple\"}\n",
    "print(s)\n",
    "#it never saves duplicate values"
   ]
  },
  {
   "cell_type": "code",
   "execution_count": 78,
   "id": "bd9e3872",
   "metadata": {},
   "outputs": [
    {
     "name": "stdout",
     "output_type": "stream",
     "text": [
      "{'google', 'microsoft'}\n",
      "{'banana', 'cherry'}\n"
     ]
    }
   ],
   "source": [
    "x = {\"google\",\"microsoft\",\"apple\"}\n",
    "y = {\"apple\",\"banana\",\"cherry\"}\n",
    "print(x-y)\n",
    "print(y-x)\n",
    "#visualise as a ven diagram"
   ]
  },
  {
   "cell_type": "markdown",
   "id": "c19abe65",
   "metadata": {},
   "source": [
    "# Dictionary\n",
    "\n",
    "They are saved in **{key:value}** form\n",
    "\n",
    "Its used to deal with unordered set of key value pairs.\n",
    "\n",
    "Key value pairs is called as item.\n",
    "\n",
    "The values in the dictionary are mutable.\n",
    "\n",
    "The keys in the dictionary are immutable"
   ]
  },
  {
   "cell_type": "code",
   "execution_count": 30,
   "id": "7263ced6",
   "metadata": {},
   "outputs": [
    {
     "name": "stdout",
     "output_type": "stream",
     "text": [
      "{100: 'COMP', 23: 'EXTC', 672: 'CHEM'}\n",
      "<class 'dict'>\n",
      "COMP\n",
      "CHEM\n"
     ]
    }
   ],
   "source": [
    "d={100:\"COMP\", 23:\"EXTC\", 672:\"CHEM\"}\n",
    "print(d)\n",
    "\n",
    "#index: 100   23    672\n",
    "#d:     COMP  EXTC  CHEM\n",
    "\n",
    "print(type(d))\n",
    "print(d[100])\n",
    "print(d[672])"
   ]
  },
  {
   "cell_type": "code",
   "execution_count": 85,
   "id": "11e773e2",
   "metadata": {},
   "outputs": [
    {
     "name": "stdout",
     "output_type": "stream",
     "text": [
      "{1: 100, 1.211: 98, 'mau': 54, (6-9j): 'Dev', 34: [1, 2, 3, 4]}\n",
      "<class 'dict'>\n",
      "54\n",
      "Dev\n",
      "[1, 2, 3, 4]\n"
     ]
    }
   ],
   "source": [
    "#key should not be a itterable\n",
    "d = { 1:100, 1.211:98, \"mau\":54, 6-9j:\"Dev\", 34:[1,2,3,4]}\n",
    "print(d)\n",
    "print(type(d))\n",
    "print(d[\"mau\"])\n",
    "print(d[6-9j])\n",
    "print(d[34])"
   ]
  },
  {
   "cell_type": "markdown",
   "id": "c40eb1dd",
   "metadata": {},
   "source": [
    "# ADVANCED PYTHON\n",
    "\n",
    "map(), filter() and lambda()"
   ]
  },
  {
   "cell_type": "markdown",
   "id": "32e14374",
   "metadata": {},
   "source": [
    "## map()\n",
    "\n",
    "It applies the given fn to all iterables and returns a new list.\n",
    "\n",
    "SYNTAX:\n",
    "**map(function, iterables)**\n"
   ]
  },
  {
   "cell_type": "code",
   "execution_count": 88,
   "id": "52d72043",
   "metadata": {},
   "outputs": [
    {
     "name": "stdout",
     "output_type": "stream",
     "text": [
      "25\n"
     ]
    }
   ],
   "source": [
    "#without map function\n",
    "\n",
    "def sqr(a):\n",
    "    return a*a\n",
    "x=sqr(5)\n",
    "print(x)"
   ]
  },
  {
   "cell_type": "code",
   "execution_count": 89,
   "id": "03589bb1",
   "metadata": {},
   "outputs": [
    {
     "name": "stdout",
     "output_type": "stream",
     "text": [
      "<map object at 0x0000020CCFF32490>\n",
      "[1, 4, 9, 16]\n"
     ]
    }
   ],
   "source": [
    "#with map function\n",
    "def sqr(a):\n",
    "    return a*a\n",
    "\n",
    "#map( FUN , ITR)\n",
    "x=map(sqr,[1,2,3,4])\n",
    "print(x) #fn\n",
    "print(list(x)) #ITR\n",
    "\n",
    "# ITR is returned to sqr(a)\n",
    "#<map object at 0x0000020CCFF32490>\n",
    "#[1, 4, 9, 16] is stored in the memory location of 0x0000020CCFF32490 address\n",
    "\n",
    "\n",
    "#print(tuple(x))\n",
    "#print(set(x))"
   ]
  },
  {
   "cell_type": "code",
   "execution_count": 91,
   "id": "3706da7f",
   "metadata": {},
   "outputs": [
    {
     "name": "stdout",
     "output_type": "stream",
     "text": [
      "[2, 4, 6, 8]\n"
     ]
    }
   ],
   "source": [
    "def multiply(a,b):\n",
    "    return a*b\n",
    "\n",
    "#x=map(FUN,ITRs)\n",
    "x=map(multiply,[1,2,3,4],[2,2,2,2])\n",
    "print(list(x))\n",
    "\n",
    "#solution\n",
    "#a =[1,2,3,4]\n",
    "#b = [2,2,2,2]\n",
    "#c= a*b = [1,2,3,4] * [2,2,2,2] = [1*2, 2*2, 3*2, 4*2] = [2, 4, 6, 8]"
   ]
  },
  {
   "cell_type": "code",
   "execution_count": 92,
   "id": "17b23ffc",
   "metadata": {},
   "outputs": [
    {
     "name": "stdout",
     "output_type": "stream",
     "text": [
      "[3, 4, 5, 6]\n"
     ]
    }
   ],
   "source": [
    "def add(a,b):\n",
    "    return a+b\n",
    "\n",
    "#x=map(FUN,ITRs)\n",
    "x=map(add,[1,2,3,4],[2,2,2,2])\n",
    "print(list(x))\n"
   ]
  },
  {
   "cell_type": "code",
   "execution_count": 93,
   "id": "ecc9c97d",
   "metadata": {},
   "outputs": [
    {
     "name": "stdout",
     "output_type": "stream",
     "text": [
      "[3, 4, 5, 6]\n"
     ]
    }
   ],
   "source": [
    "def sqrtt(a,b):\n",
    "    return a+b\n",
    "\n",
    "#x=map(FUN,ITRs)\n",
    "x=map(sqrtt,[1,2,3,4],[2,2,2,2,2]) # index values are not same still it will execute\n",
    "print(list(x))\n"
   ]
  },
  {
   "cell_type": "code",
   "execution_count": 31,
   "id": "f03cef38",
   "metadata": {},
   "outputs": [
    {
     "name": "stdout",
     "output_type": "stream",
     "text": [
      "[3, 5, 7, 10]\n"
     ]
    }
   ],
   "source": [
    "def sqrtt(a,b):\n",
    "    return a+b\n",
    "\n",
    "y = map (sqrtt, [1,2,3,4], [2,3,4,6, 7])\n",
    "#it will skip the 5th value\n",
    "print(list(y))"
   ]
  },
  {
   "cell_type": "markdown",
   "id": "917f0208",
   "metadata": {},
   "source": [
    "# Lambda Functions\n",
    "\n",
    "They are the fn which dont have any name.\n",
    "\n",
    "They are generally provided as input to other fns.\n",
    "\n",
    "Lambda fn are single line fn.\n",
    "\n",
    "They are one time use.\n",
    "\n",
    "SYNTAX:\n",
    "\n",
    "**lambda arguments : expression**"
   ]
  },
  {
   "cell_type": "code",
   "execution_count": 95,
   "id": "04eec783",
   "metadata": {},
   "outputs": [
    {
     "name": "stdout",
     "output_type": "stream",
     "text": [
      "9\n"
     ]
    }
   ],
   "source": [
    "#without lambda fn\n",
    "\n",
    "def sqr(a):\n",
    "    return a*a\n",
    "print(sqr(3))"
   ]
  },
  {
   "cell_type": "code",
   "execution_count": 96,
   "id": "b0fc5f53",
   "metadata": {},
   "outputs": [
    {
     "name": "stdout",
     "output_type": "stream",
     "text": [
      "9\n"
     ]
    }
   ],
   "source": [
    "#with lambda fn\n",
    "\n",
    "x = lambda a : a*a \n",
    "#lambda a is argument : a*a is expression\n",
    "print(x(3))\n",
    "\n",
    "#the value of 3 goes in lambda a =3 and then a*a = 3*3 = 9"
   ]
  },
  {
   "cell_type": "code",
   "execution_count": 97,
   "id": "ba62e071",
   "metadata": {},
   "outputs": [
    {
     "name": "stdout",
     "output_type": "stream",
     "text": [
      "103\n"
     ]
    }
   ],
   "source": [
    "x = lambda a : a+100 \n",
    "#lambda a is argument : a+100is expression\n",
    "print(x(3))\n",
    "\n",
    "#the value of print(x(3)) , 3 goes in lambda a =3 and then a+100 = 3+100 = 103"
   ]
  },
  {
   "cell_type": "code",
   "execution_count": 98,
   "id": "10056f1f",
   "metadata": {},
   "outputs": [
    {
     "name": "stdout",
     "output_type": "stream",
     "text": [
      "11\n"
     ]
    }
   ],
   "source": [
    "#linear eqn : 5x+3y\n",
    "#Lambda accepting 2 values\n",
    "z=lambda x, y : 5*x +3*y\n",
    "print(z(1,2))\n",
    "\n",
    "#print(z(1,2)) , 1,2 value is put in lambda x,y and then 5*1+3*2=11"
   ]
  },
  {
   "cell_type": "code",
   "execution_count": 32,
   "id": "1dc6bd8d",
   "metadata": {},
   "outputs": [
    {
     "name": "stdout",
     "output_type": "stream",
     "text": [
      "9\n"
     ]
    }
   ],
   "source": [
    "z=lambda x, y : (x+y)**2\n",
    "print(z(1,2))"
   ]
  },
  {
   "cell_type": "markdown",
   "id": "6b9d90d9",
   "metadata": {},
   "source": [
    "**NOTE:**\n",
    "\n",
    ">map(function, iterables)\n",
    "\n",
    ">lambda arguments : expression\n",
    "\n",
    "ideally, lambda is used along with map functions"
   ]
  },
  {
   "cell_type": "code",
   "execution_count": 34,
   "id": "d7aad692",
   "metadata": {},
   "outputs": [
    {
     "name": "stdout",
     "output_type": "stream",
     "text": [
      "[4, 5, 6, 7]\n"
     ]
    }
   ],
   "source": [
    "#declare a list\n",
    "l=[1,2,3,4]\n",
    "#create map function\n",
    "#x=map(FUN,ITRs)\n",
    "x=map(lambda a: a+3 ,l)\n",
    "print(list(x))\n",
    "\n",
    "#iterable is l .. which is passing to the lambda arguments and then add "
   ]
  },
  {
   "cell_type": "code",
   "execution_count": 35,
   "id": "6d73955d",
   "metadata": {},
   "outputs": [
    {
     "name": "stdout",
     "output_type": "stream",
     "text": [
      "[4, 5, 6, 7]\n"
     ]
    }
   ],
   "source": [
    "#Simplifying the code\n",
    "x=map(lambda a: a+3 ,[1,2,3,4])\n",
    "print(list(x))"
   ]
  },
  {
   "cell_type": "code",
   "execution_count": 100,
   "id": "f3cf4451",
   "metadata": {},
   "outputs": [
    {
     "name": "stdout",
     "output_type": "stream",
     "text": [
      "[4, 5, 6, 7]\n"
     ]
    }
   ],
   "source": [
    "#simpliest way of writing the above code\n",
    "print(list(map(lambda a: a+3 ,[1,2,3,4])))\n"
   ]
  },
  {
   "cell_type": "code",
   "execution_count": 101,
   "id": "62807c7b",
   "metadata": {},
   "outputs": [
    {
     "name": "stdout",
     "output_type": "stream",
     "text": [
      "[1, 4, 9, 16]\n"
     ]
    }
   ],
   "source": [
    "print(list(map(lambda a: a*a ,[1,2,3,4])))"
   ]
  },
  {
   "cell_type": "code",
   "execution_count": 106,
   "id": "c16b61dd",
   "metadata": {},
   "outputs": [
    {
     "name": "stdout",
     "output_type": "stream",
     "text": [
      "[2, 4, 6, 8]\n"
     ]
    }
   ],
   "source": [
    "print(list(map( lambda a,b: a*b ,[1,2,3,4],[2,2,2,2])))\n",
    "#List is the typecaste"
   ]
  },
  {
   "cell_type": "markdown",
   "id": "e93c7a4e",
   "metadata": {},
   "source": [
    "# filter()\n",
    "\n",
    "It is used to filter the given iterables with the help of another fn passed as an argument to test all the elements to be True or false.\n",
    "\n",
    "SYNTAX:\n",
    "\n",
    "**filter(FUNCTION, ITERABLES)**\n"
   ]
  },
  {
   "cell_type": "code",
   "execution_count": 108,
   "id": "c81aa430",
   "metadata": {},
   "outputs": [
    {
     "name": "stdout",
     "output_type": "stream",
     "text": [
      "[3, 4, 5]\n"
     ]
    }
   ],
   "source": [
    "l=[1,2,3,4,5]\n",
    "#filter(FUNCTION, ITERABLES)\n",
    "print(list(filter(lambda s: s>=3 ,l)))"
   ]
  },
  {
   "cell_type": "code",
   "execution_count": 109,
   "id": "a2694ce7",
   "metadata": {},
   "outputs": [
    {
     "name": "stdout",
     "output_type": "stream",
     "text": [
      "[3, 4, 5]\n"
     ]
    }
   ],
   "source": [
    "#using filter\n",
    "\n",
    "print(list(filter(lambda s: s>=3 ,[1,2,3,4,5])))"
   ]
  },
  {
   "cell_type": "code",
   "execution_count": 115,
   "id": "fe0f615c",
   "metadata": {},
   "outputs": [
    {
     "name": "stdout",
     "output_type": "stream",
     "text": [
      "[3, 4]\n"
     ]
    }
   ],
   "source": [
    "#using filter\n",
    "\n",
    "print(list(filter(lambda s: s>=3 ,[1,2,3,4])))"
   ]
  },
  {
   "cell_type": "code",
   "execution_count": 36,
   "id": "af2850aa",
   "metadata": {},
   "outputs": [
    {
     "name": "stdout",
     "output_type": "stream",
     "text": [
      "[False, False, True, True, True]\n"
     ]
    }
   ],
   "source": [
    "#using map\n",
    "\n",
    "print(list(map(lambda s: s>=3 ,[1,2,3,4,5])))\n",
    "#map is giving me the logical value"
   ]
  },
  {
   "cell_type": "code",
   "execution_count": 126,
   "id": "a0479051",
   "metadata": {},
   "outputs": [
    {
     "name": "stdout",
     "output_type": "stream",
     "text": [
      "[9, 16]\n"
     ]
    }
   ],
   "source": [
    "#filter within map\n",
    "print(list(map(lambda x : pow(x,2) , filter(lambda x : x>=3, [1,2,3,4]))))\n",
    "\n",
    "#filter(lambda x : x>=3, [1,2,3,4] - 3,4\n",
    "# now after using map 3, is being sqr by  pow(x,2) function"
   ]
  },
  {
   "cell_type": "code",
   "execution_count": 125,
   "id": "c1b92163",
   "metadata": {},
   "outputs": [
    {
     "name": "stdout",
     "output_type": "stream",
     "text": [
      "[6, 7]\n"
     ]
    }
   ],
   "source": [
    "#map within filter\n",
    "\n",
    "print(list(filter(lambda x: x>=6,map(lambda x: x+3 , [1,2,3,4]))))"
   ]
  },
  {
   "cell_type": "code",
   "execution_count": null,
   "id": "c8fb4ac5",
   "metadata": {},
   "outputs": [],
   "source": []
  }
 ],
 "metadata": {
  "kernelspec": {
   "display_name": "Python 3",
   "language": "python",
   "name": "python3"
  },
  "language_info": {
   "codemirror_mode": {
    "name": "ipython",
    "version": 3
   },
   "file_extension": ".py",
   "mimetype": "text/x-python",
   "name": "python",
   "nbconvert_exporter": "python",
   "pygments_lexer": "ipython3",
   "version": "3.8.8"
  }
 },
 "nbformat": 4,
 "nbformat_minor": 5
}
