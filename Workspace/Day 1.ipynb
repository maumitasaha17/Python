{
 "cells": [
  {
   "cell_type": "code",
   "execution_count": 1,
   "id": "df08a5cf",
   "metadata": {},
   "outputs": [
    {
     "data": {
      "text/plain": [
       "2"
      ]
     },
     "execution_count": 1,
     "metadata": {},
     "output_type": "execute_result"
    }
   ],
   "source": [
    "1+1"
   ]
  },
  {
   "cell_type": "code",
   "execution_count": 2,
   "id": "a4b7ded9",
   "metadata": {},
   "outputs": [
    {
     "data": {
      "text/plain": [
       "5.593103448275862"
      ]
     },
     "execution_count": 2,
     "metadata": {},
     "output_type": "execute_result"
    }
   ],
   "source": [
    "2433/435"
   ]
  },
  {
   "cell_type": "code",
   "execution_count": null,
   "id": "1f8c0f8a",
   "metadata": {},
   "outputs": [],
   "source": [
    "# Hi Skillenable \n",
    "\n",
    "## I am a student\n",
    "\n",
    "My name is **MAUMITA SAHA**\n",
    "\n",
    "I am an expert in :\n",
    "\n",
    ">Tableau\n",
    "\n",
    ">Python\n",
    "\n",
    ">R\n",
    "\n",
    ">SQL\n",
    "\n",
    ">Excel"
   ]
  },
  {
   "cell_type": "markdown",
   "id": "d66eee81",
   "metadata": {},
   "source": [
    "# Hi Skillenable \n",
    "\n",
    "## I am a student\n",
    "\n",
    "My name is **<font color=red>MAUMITA SAHA</font>**\n",
    "\n",
    "I am an expert in :\n",
    "\n",
    ">Tableau\n",
    "\n",
    ">Python\n",
    "\n",
    ">R\n",
    "\n",
    ">SQL\n",
    "\n",
    ">Excel\n",
    "\n",
    "\n",
    "**Markdown for Jupyter notebooks cheatsheet:**\n",
    "https://ingeh.medium.com/markdown-for-jupyter-notebooks-cheatsheet-386c05aeebed"
   ]
  },
  {
   "cell_type": "markdown",
   "id": "0a027ecd",
   "metadata": {},
   "source": [
    "# PRINT"
   ]
  },
  {
   "cell_type": "code",
   "execution_count": 4,
   "id": "2ff18ee1",
   "metadata": {},
   "outputs": [
    {
     "name": "stdout",
     "output_type": "stream",
     "text": [
      "MY NAME IS MAUMITA\n"
     ]
    }
   ],
   "source": [
    "print (\"MY NAME IS MAUMITA\")\n",
    "#whatever you type in print under \" \" or ' ' it will be printed"
   ]
  },
  {
   "cell_type": "code",
   "execution_count": 5,
   "id": "5ac48e9b",
   "metadata": {},
   "outputs": [
    {
     "name": "stdout",
     "output_type": "stream",
     "text": [
      "MY NAME IS MAUMITA\n"
     ]
    }
   ],
   "source": [
    "print ('MY NAME IS MAUMITA')"
   ]
  },
  {
   "cell_type": "code",
   "execution_count": 6,
   "id": "fd08882f",
   "metadata": {},
   "outputs": [
    {
     "name": "stdout",
     "output_type": "stream",
     "text": [
      "987\n"
     ]
    }
   ],
   "source": [
    "print(\"987\")"
   ]
  },
  {
   "cell_type": "code",
   "execution_count": 7,
   "id": "8dbf9c45",
   "metadata": {},
   "outputs": [
    {
     "name": "stdout",
     "output_type": "stream",
     "text": [
      "jadbfjxhvfniuhksdfiouh\n"
     ]
    }
   ],
   "source": [
    "print(\"jadbfjxhvfniuhksdfiouh\")"
   ]
  },
  {
   "cell_type": "code",
   "execution_count": null,
   "id": "b416a3da",
   "metadata": {},
   "outputs": [],
   "source": [
    "#Given a=10 , b=12. What is sum of two nos.?\n",
    "\n",
    "a=10\n",
    "b=12\n",
    "c=a+b\n",
    "print(c)\n",
    "print() #print blank line\n",
    "\n",
    "print('c') # if you write in ' ' it will print the same thing and not the value\n",
    "print()\n",
    "\n",
    "print(a)\n",
    "print(b)\n",
    "print()\n",
    "\n",
    "print('Addition: ',c)\n",
    "\n",
    "print('Addition of a =',a, '& b =',b, 'is c =',c)"
   ]
  },
  {
   "cell_type": "code",
   "execution_count": null,
   "id": "8112c3e1",
   "metadata": {},
   "outputs": [],
   "source": [
    "a=1987\n",
    "b=12445\n",
    "c=a+b\n",
    "print(c)\n",
    "print() #print blank line\n",
    "\n",
    "print('c') # if you write in ' ' it will print the same thing and not the value\n",
    "print()\n",
    "\n",
    "print(a)\n",
    "print(b)\n",
    "print()\n",
    "\n",
    "print('Addition: ',c)\n",
    "\n",
    "print('Addition of a =',a, '& b =',b, 'is c =',c)\n"
   ]
  },
  {
   "cell_type": "code",
   "execution_count": null,
   "id": "468b5dc6",
   "metadata": {},
   "outputs": [],
   "source": [
    "#input from the user\n",
    "\n",
    "a=input() #function\n",
    "b=input()\n",
    "c=a+b\n",
    "print(c)\n",
    "print() #print blank line\n",
    "\n",
    "print('c') # if you write in ' ' it will print the same thing and not the value\n",
    "print()\n",
    "\n",
    "print(a)\n",
    "print(b)\n",
    "print()\n",
    "\n",
    "print('Addition: ',c)\n",
    "\n",
    "print('Addition of a =',a, '& b =',b, 'is c =',c)"
   ]
  },
  {
   "cell_type": "markdown",
   "id": "6ab99b6d",
   "metadata": {},
   "source": [
    "# Type Function \n",
    "\n",
    "defines which data type of function is it."
   ]
  },
  {
   "cell_type": "code",
   "execution_count": 27,
   "id": "33efd825",
   "metadata": {},
   "outputs": [
    {
     "data": {
      "text/plain": [
       "int"
      ]
     },
     "execution_count": 27,
     "metadata": {},
     "output_type": "execute_result"
    }
   ],
   "source": [
    "type(100)"
   ]
  },
  {
   "cell_type": "code",
   "execution_count": 28,
   "id": "51e86cba",
   "metadata": {},
   "outputs": [
    {
     "data": {
      "text/plain": [
       "str"
      ]
     },
     "execution_count": 28,
     "metadata": {},
     "output_type": "execute_result"
    }
   ],
   "source": [
    "type('100')"
   ]
  },
  {
   "cell_type": "code",
   "execution_count": 29,
   "id": "4a93f763",
   "metadata": {},
   "outputs": [
    {
     "data": {
      "text/plain": [
       "float"
      ]
     },
     "execution_count": 29,
     "metadata": {},
     "output_type": "execute_result"
    }
   ],
   "source": [
    "type(100.32)"
   ]
  },
  {
   "cell_type": "code",
   "execution_count": 30,
   "id": "48e3d860",
   "metadata": {},
   "outputs": [
    {
     "data": {
      "text/plain": [
       "str"
      ]
     },
     "execution_count": 30,
     "metadata": {},
     "output_type": "execute_result"
    }
   ],
   "source": [
    "type(\"Mau\")"
   ]
  },
  {
   "cell_type": "code",
   "execution_count": 32,
   "id": "02e777ff",
   "metadata": {},
   "outputs": [
    {
     "data": {
      "text/plain": [
       "complex"
      ]
     },
     "execution_count": 32,
     "metadata": {},
     "output_type": "execute_result"
    }
   ],
   "source": [
    "type(7-8j)\n",
    "#this is the only complex no. format it accepts"
   ]
  },
  {
   "cell_type": "code",
   "execution_count": 33,
   "id": "c5589a26",
   "metadata": {},
   "outputs": [
    {
     "ename": "SyntaxError",
     "evalue": "invalid syntax (<ipython-input-33-11681af563ca>, line 1)",
     "output_type": "error",
     "traceback": [
      "\u001b[1;36m  File \u001b[1;32m\"<ipython-input-33-11681af563ca>\"\u001b[1;36m, line \u001b[1;32m1\u001b[0m\n\u001b[1;33m    print(4-989i)\u001b[0m\n\u001b[1;37m               ^\u001b[0m\n\u001b[1;31mSyntaxError\u001b[0m\u001b[1;31m:\u001b[0m invalid syntax\n"
     ]
    }
   ],
   "source": [
    "print(4-989i)\n",
    "#it will give error"
   ]
  },
  {
   "cell_type": "code",
   "execution_count": 34,
   "id": "45f11a68",
   "metadata": {},
   "outputs": [
    {
     "name": "stdout",
     "output_type": "stream",
     "text": [
      "8792\n",
      "You enterned 8792\n"
     ]
    }
   ],
   "source": [
    "x=input()\n",
    "print(\"You enterned\",x)"
   ]
  },
  {
   "cell_type": "code",
   "execution_count": 37,
   "id": "87827c62",
   "metadata": {},
   "outputs": [
    {
     "name": "stdout",
     "output_type": "stream",
     "text": [
      "3243\n",
      "<class 'str'>\n"
     ]
    }
   ],
   "source": [
    "#what to see what is the data type\n",
    "x=input()\n",
    "print(type(x))\n",
    "#it gives string its an error"
   ]
  },
  {
   "cell_type": "markdown",
   "id": "2990c7bc",
   "metadata": {},
   "source": [
    "# TYPECASTING\n",
    "\n",
    "It is the process of forcefully change the data type"
   ]
  },
  {
   "cell_type": "code",
   "execution_count": 39,
   "id": "244c822c",
   "metadata": {},
   "outputs": [
    {
     "name": "stdout",
     "output_type": "stream",
     "text": [
      "98\n",
      "<class 'int'>\n",
      "98.0\n",
      "<class 'float'>\n"
     ]
    }
   ],
   "source": [
    "i =98 #i is integer\n",
    "print(i)\n",
    "print(type(i))\n",
    "\n",
    "#store i in float format\n",
    "f = float(i)\n",
    "print(f)\n",
    "print(type(f))\n"
   ]
  },
  {
   "cell_type": "code",
   "execution_count": 41,
   "id": "14929452",
   "metadata": {},
   "outputs": [
    {
     "name": "stdout",
     "output_type": "stream",
     "text": [
      "98.98896\n",
      "<class 'float'>\n",
      "98\n",
      "<class 'int'>\n"
     ]
    }
   ],
   "source": [
    "i =98.98896 #i is integer\n",
    "print(i)\n",
    "print(type(i))\n",
    "\n",
    "#store i in float format with int data type\n",
    "f = int(i) #data type is changed to integer\n",
    "print(f)\n",
    "print(type(f))\n"
   ]
  },
  {
   "cell_type": "code",
   "execution_count": null,
   "id": "f3db0020",
   "metadata": {},
   "outputs": [],
   "source": []
  },
  {
   "cell_type": "code",
   "execution_count": 43,
   "id": "ebdf7a05",
   "metadata": {},
   "outputs": [
    {
     "name": "stdout",
     "output_type": "stream",
     "text": [
      "234\n",
      "234\n",
      "468\n",
      "\n",
      "c\n",
      "\n",
      "234\n",
      "234\n",
      "\n",
      "Addition:  468\n",
      "Addition of a = 234 $ b = 234 is c = 468\n"
     ]
    }
   ],
   "source": [
    "#input from the user\n",
    "\n",
    "a=input() #a is in str format\n",
    "b=input() #b is in str format\n",
    "\n",
    "#converting string to integer\n",
    "a=int(a)\n",
    "b=int(b)\n",
    "c=a+b\n",
    "print(c)\n",
    "print() #print blank line\n",
    "\n",
    "print('c') # if you write in ' ' it will print the same thing and not the value\n",
    "print()\n",
    "\n",
    "print(a)\n",
    "print(b)\n",
    "print()\n",
    "\n",
    "print('Addition: ',c)\n",
    "\n",
    "print('Addition of a =',a, '& b =',b, 'is c =',c)"
   ]
  },
  {
   "cell_type": "code",
   "execution_count": 47,
   "id": "97c9bafa",
   "metadata": {},
   "outputs": [
    {
     "name": "stdout",
     "output_type": "stream",
     "text": [
      "768\n",
      "878\n",
      "1646\n",
      "\n",
      "c\n",
      "\n",
      "768\n",
      "878\n",
      "\n",
      "Addition:  1646\n",
      "Addition of a = 768 & b = 878 is c = 1646\n"
     ]
    }
   ],
   "source": [
    "a=int(input()) #a is in str format so converted to int\n",
    "b=int(input()) #b is in str format\n",
    "\n",
    "\n",
    "c=a+b\n",
    "print(c)\n",
    "print() #print blank line\n",
    "\n",
    "print('c') # if you write in ' ' it will print the same thing and not the value\n",
    "print()\n",
    "\n",
    "print(a)\n",
    "print(b)\n",
    "print()\n",
    "\n",
    "print('Addition: ',c)\n",
    "\n",
    "print('Addition of a =',a, '& b =',b, 'is c =',c)"
   ]
  },
  {
   "cell_type": "code",
   "execution_count": 48,
   "id": "e79b03c0",
   "metadata": {},
   "outputs": [
    {
     "name": "stdout",
     "output_type": "stream",
     "text": [
      "Enter 1st number = 35\n",
      "Enter 2nd number = 87\n",
      "122\n",
      "\n",
      "c\n",
      "\n",
      "35\n",
      "87\n",
      "\n",
      "Addition:  122\n",
      "Addition of a = 35 & b = 87 is c = 122\n"
     ]
    }
   ],
   "source": [
    "\n",
    "a=int(input(\"Enter 1st number = \")) #a is in str format so converted to int\n",
    "b=int(input(\"Enter 2nd number = \")) #b is in str format\n",
    "\n",
    "\n",
    "c=a+b\n",
    "print(c)\n",
    "print() #print blank line\n",
    "\n",
    "print('c') # if you write in ' ' it will print the same thing and not the value\n",
    "print()\n",
    "\n",
    "print(a)\n",
    "print(b)\n",
    "print()\n",
    "\n",
    "print('Addition: ',c)\n",
    "\n",
    "print('Addition of a =',a, '& b =',b, 'is c =',c)"
   ]
  },
  {
   "cell_type": "markdown",
   "id": "358a7933",
   "metadata": {},
   "source": [
    "# Conditional Statements\n",
    "\n",
    "\n",
    "eg:\n",
    "if sunny:\n",
    "    movie\n",
    "\n",
    "if sunny:\n",
    "    movie\n",
    "else:\n",
    "    Home\n",
    "\n",
    "if sunny:\n",
    "movie\n",
    "elseif raining:\n",
    "    long drive\n",
    "elseif windy:\n",
    "    football   \n",
    "else:\n",
    "    Home"
   ]
  },
  {
   "cell_type": "raw",
   "id": "97eb0d71",
   "metadata": {},
   "source": [
    "# if SYNTAX\n",
    "\n",
    "if condition:\n",
    "    do this\n",
    "    do this\n",
    "    do this\n",
    "    \n",
    "#if else SYNTAX\n",
    "\n",
    "if condition:\n",
    "    do this\n",
    "    do this\n",
    "else:\n",
    "    do this\n",
    "    do this\n",
    "    \n",
    "# if-elif-else SYNTAX:\n",
    "\n",
    "if condition1:\n",
    "    do this\n",
    "    do this\n",
    "elif condition2:\n",
    "    do this\n",
    "    do this\n",
    "elif condition3:\n",
    "    do this\n",
    "    do this\n",
    "else:\n",
    "    do this\n",
    "    do this\n",
    "        "
   ]
  },
  {
   "cell_type": "markdown",
   "id": "72ce4d39",
   "metadata": {},
   "source": [
    "# IF Syntax"
   ]
  },
  {
   "cell_type": "code",
   "execution_count": 59,
   "id": "0bd60987",
   "metadata": {},
   "outputs": [
    {
     "name": "stdout",
     "output_type": "stream",
     "text": [
      "if condition successfull\n",
      "out of if\n"
     ]
    }
   ],
   "source": [
    "x = 5 \n",
    "if x>3:\n",
    "    print(\"if condition successfull\")\n",
    "print(\"out of if\") #not a part of if condition that is y it is printed"
   ]
  },
  {
   "cell_type": "code",
   "execution_count": 57,
   "id": "d6d3c085",
   "metadata": {},
   "outputs": [
    {
     "name": "stdout",
     "output_type": "stream",
     "text": [
      "out of if\n"
     ]
    }
   ],
   "source": [
    "x = -15 \n",
    "if x>3:\n",
    "    print(\"if condition successfull\")\n",
    "print(\"out of if\")"
   ]
  },
  {
   "cell_type": "markdown",
   "id": "64f42de3",
   "metadata": {},
   "source": [
    "# IF-ELSE Syntax"
   ]
  },
  {
   "cell_type": "code",
   "execution_count": 56,
   "id": "e626be2a",
   "metadata": {},
   "outputs": [
    {
     "name": "stdout",
     "output_type": "stream",
     "text": [
      "5 is positive no.\n",
      "out of if-else\n"
     ]
    }
   ],
   "source": [
    "x = 5 \n",
    "if x>0:\n",
    "    print(x,\"is positive no.\")\n",
    "else:\n",
    "    print(x,\"is negative no.\")\n",
    "print(\"out of if-else\")"
   ]
  },
  {
   "cell_type": "code",
   "execution_count": 55,
   "id": "d4dd0007",
   "metadata": {},
   "outputs": [
    {
     "name": "stdout",
     "output_type": "stream",
     "text": [
      "-5 is negative no.\n",
      "out of if-else\n"
     ]
    }
   ],
   "source": [
    "x = -5 \n",
    "if x>0:\n",
    "    print(x,\"is positive no.\")\n",
    "else:\n",
    "    print(x,\"is negative no.\")\n",
    "print(\"out of if-else\")"
   ]
  },
  {
   "cell_type": "code",
   "execution_count": 60,
   "id": "f89f9cfc",
   "metadata": {},
   "outputs": [
    {
     "name": "stdout",
     "output_type": "stream",
     "text": [
      "0 is negative no.\n",
      "out of if-else\n"
     ]
    }
   ],
   "source": [
    "x = 0\n",
    "if x>0:\n",
    "    print(x,\"is positive no.\")\n",
    "else:\n",
    "    print(x,\"is negative no.\")\n",
    "print(\"out of if-else\")"
   ]
  },
  {
   "cell_type": "markdown",
   "id": "e803af1a",
   "metadata": {},
   "source": [
    "# IF_ELIF_ELSE Syntax"
   ]
  },
  {
   "cell_type": "code",
   "execution_count": 64,
   "id": "6f1faea3",
   "metadata": {},
   "outputs": [
    {
     "name": "stdout",
     "output_type": "stream",
     "text": [
      "Number is 0 i.e. neither negative nor positive\n",
      "Out of if else\n"
     ]
    }
   ],
   "source": [
    "x = 0\n",
    "if x>0:\n",
    "    print(x,\"is a Positive Number\")\n",
    "elif x<0:\n",
    "    print(x,\"is a Negative Number\")\n",
    "else:\n",
    "    print(\"Number is 0 i.e. neither negative nor positive\")\n",
    "    \n",
    "print(\"Out of if else\")"
   ]
  },
  {
   "cell_type": "markdown",
   "id": "3ebcca78",
   "metadata": {},
   "source": [
    "# LIST\n",
    "\n",
    "It is collection of items of dissimilar datatypes\n",
    "\n",
    "It is stored in [ ] square brackets."
   ]
  },
  {
   "cell_type": "code",
   "execution_count": 65,
   "id": "41bf9287",
   "metadata": {},
   "outputs": [
    {
     "name": "stdout",
     "output_type": "stream",
     "text": [
      "[10, -10, 1.21, -98.78, 'Darshan', 'SkillEnable', (3+98j)]\n",
      "<class 'list'>\n"
     ]
    }
   ],
   "source": [
    "l = [10,-10,1.21,-98.78,\"Darshan\",\"SkillEnable\",3+98j]\n",
    "print(l)\n",
    "print(type(l))"
   ]
  },
  {
   "cell_type": "code",
   "execution_count": 74,
   "id": "d98d23dd",
   "metadata": {},
   "outputs": [
    {
     "name": "stdout",
     "output_type": "stream",
     "text": [
      "[10, 20, 30, 40, 50]\n",
      "<class 'list'>\n",
      "10\n",
      "50\n",
      "50\n",
      "20\n"
     ]
    }
   ],
   "source": [
    "l = [10,20,30,40,50]\n",
    "print(l)\n",
    "print(type(l))\n",
    "#Indexing\n",
    "    #0   1   2   3   4\n",
    "#l  #10  20  30  40  50\n",
    "    #-5  -4  -3  -2  -1\n",
    "\n",
    "\n",
    "print(l[0])\n",
    "print(l[4])\n",
    "#print(l[10]) #Index error: index out of range\n",
    "print(l[-1])\n",
    "print(l[-4])\n",
    "\n"
   ]
  },
  {
   "cell_type": "markdown",
   "id": "a2cbb9d8",
   "metadata": {},
   "source": [
    "# SLICING \n",
    "\n",
    "getting piece out "
   ]
  },
  {
   "cell_type": "code",
   "execution_count": 69,
   "id": "14f54e64",
   "metadata": {},
   "outputs": [
    {
     "name": "stdout",
     "output_type": "stream",
     "text": [
      "[10, 20, 30, 40, 50]\n",
      "[20, 30]\n",
      "[20, 30, 40]\n"
     ]
    }
   ],
   "source": [
    "l = [10,20,30,40,50]\n",
    "print(l)\n",
    "\n",
    "#Indexing\n",
    "    #0   1   2   3   4\n",
    "#l  #10  20  30  40  50\n",
    "    #-5  -4  -3  -2  -1\n",
    "\n",
    "#i want elements from 20,30,40 out of the list\n",
    "print(l[1:3]) #You wont get the output u want #Start Index = 1, End Index =(n-1) =(3-1)\n",
    "print(l[1:4])"
   ]
  },
  {
   "cell_type": "markdown",
   "id": "f25cd7f1",
   "metadata": {},
   "source": [
    "# Tuples\n",
    "\n",
    "It is a collection of items of dissimilar datatypes.\n",
    "\n",
    "It is stored using ( ) brackets.\n",
    "\n",
    "eg: Aadhar card, Passport Number, etc"
   ]
  },
  {
   "cell_type": "code",
   "execution_count": 79,
   "id": "3c3ed391",
   "metadata": {},
   "outputs": [
    {
     "name": "stdout",
     "output_type": "stream",
     "text": [
      "(10, 20, 30, 40, 50)\n",
      "<class 'tuple'>\n",
      "10\n",
      "50\n",
      "50\n",
      "20\n",
      "(20, 30)\n",
      "(20, 30, 40)\n"
     ]
    }
   ],
   "source": [
    "l = (10,20,30,40,50)\n",
    "print(l)\n",
    "print(type(l))\n",
    "#Indexing\n",
    "    #0   1   2   3   4\n",
    "#l  #10  20  30  40  50\n",
    "    #-5  -4  -3  -2  -1\n",
    "\n",
    "\n",
    "print(l[0])\n",
    "print(l[4])\n",
    "#print(l[10]) #Index error: index out of range\n",
    "print(l[-1])\n",
    "print(l[-4])\n",
    "\n",
    "\n",
    "#i want elements from 20,30,40 out of the list\n",
    "print(l[1:3]) #You wont get the output u want #Start Index = 1, End Index =(n-1) =(3-1)\n",
    "print(l[1:4])"
   ]
  },
  {
   "cell_type": "markdown",
   "id": "e730d322",
   "metadata": {},
   "source": [
    "# DIFFERENCE BETWEEN LIST AND TUPLE\n",
    "\n",
    "1. Lists are Mutable i.e. Flexible\n",
    "\n",
    "\n",
    "2. Tuples are Immutable i.e. Fixed\n",
    "\n",
    "\n",
    "3. Tuples are used when you dont want the value to be changed.\n",
    "\n",
    "\n",
    "4. Eg of tuple: Aadhar card, Passport Number, Emp Id, license number, UAN no., pan number etc\n",
    "\n",
    "\n",
    "5.Tuples is stored using ( ) brackets.\n",
    "\n",
    "\n",
    "6.List is stored in [ ] square brackets."
   ]
  },
  {
   "cell_type": "code",
   "execution_count": 78,
   "id": "9ceac1f5",
   "metadata": {},
   "outputs": [
    {
     "name": "stdout",
     "output_type": "stream",
     "text": [
      "[10, 20, 30, 40, 50]\n",
      "10\n",
      "[10, 20, 'Darshan', 40, 50]\n"
     ]
    }
   ],
   "source": [
    "# Lists are Mutable i.e. Flexible\n",
    "\n",
    "l = [10,20,30,40,50]\n",
    "print(l)\n",
    "print(l[0])\n",
    "l[2] = \"Darshan\"\n",
    "print(l)"
   ]
  },
  {
   "cell_type": "code",
   "execution_count": 77,
   "id": "1a29a888",
   "metadata": {},
   "outputs": [
    {
     "name": "stdout",
     "output_type": "stream",
     "text": [
      "(10, 20, 30, 40, 50)\n",
      "10\n"
     ]
    },
    {
     "ename": "TypeError",
     "evalue": "'tuple' object does not support item assignment",
     "output_type": "error",
     "traceback": [
      "\u001b[1;31m---------------------------------------------------------------------------\u001b[0m",
      "\u001b[1;31mTypeError\u001b[0m                                 Traceback (most recent call last)",
      "\u001b[1;32m<ipython-input-77-cfccc733fa94>\u001b[0m in \u001b[0;36m<module>\u001b[1;34m\u001b[0m\n\u001b[0;32m      4\u001b[0m \u001b[0mprint\u001b[0m\u001b[1;33m(\u001b[0m\u001b[0ml\u001b[0m\u001b[1;33m)\u001b[0m\u001b[1;33m\u001b[0m\u001b[1;33m\u001b[0m\u001b[0m\n\u001b[0;32m      5\u001b[0m \u001b[0mprint\u001b[0m\u001b[1;33m(\u001b[0m\u001b[0ml\u001b[0m\u001b[1;33m[\u001b[0m\u001b[1;36m0\u001b[0m\u001b[1;33m]\u001b[0m\u001b[1;33m)\u001b[0m\u001b[1;33m\u001b[0m\u001b[1;33m\u001b[0m\u001b[0m\n\u001b[1;32m----> 6\u001b[1;33m \u001b[0ml\u001b[0m\u001b[1;33m[\u001b[0m\u001b[1;36m0\u001b[0m\u001b[1;33m]\u001b[0m \u001b[1;33m=\u001b[0m \u001b[1;34m\"Darshan\"\u001b[0m\u001b[1;33m\u001b[0m\u001b[1;33m\u001b[0m\u001b[0m\n\u001b[0m\u001b[0;32m      7\u001b[0m \u001b[0mprint\u001b[0m\u001b[1;33m(\u001b[0m\u001b[0ml\u001b[0m\u001b[1;33m)\u001b[0m\u001b[1;33m\u001b[0m\u001b[1;33m\u001b[0m\u001b[0m\n\u001b[0;32m      8\u001b[0m \u001b[1;33m\u001b[0m\u001b[0m\n",
      "\u001b[1;31mTypeError\u001b[0m: 'tuple' object does not support item assignment"
     ]
    }
   ],
   "source": [
    "# Tuples are Immutable i.e. Fixed\n",
    "\n",
    "l = (10,20,30,40,50)\n",
    "print(l)\n",
    "print(l[0])\n",
    "l[0] = \"Darshan\"\n",
    "print(l)\n",
    "\n",
    "#TypeError: 'tuple' object does not support item assignment"
   ]
  },
  {
   "cell_type": "code",
   "execution_count": null,
   "id": "081b253c",
   "metadata": {},
   "outputs": [],
   "source": []
  }
 ],
 "metadata": {
  "kernelspec": {
   "display_name": "Python 3",
   "language": "python",
   "name": "python3"
  },
  "language_info": {
   "codemirror_mode": {
    "name": "ipython",
    "version": 3
   },
   "file_extension": ".py",
   "mimetype": "text/x-python",
   "name": "python",
   "nbconvert_exporter": "python",
   "pygments_lexer": "ipython3",
   "version": "3.8.8"
  }
 },
 "nbformat": 4,
 "nbformat_minor": 5
}
