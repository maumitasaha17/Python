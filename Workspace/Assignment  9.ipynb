{
 "cells": [
  {
   "cell_type": "markdown",
   "metadata": {
    "_cell_guid": "e29b184b-4771-4721-ab6f-79cca30936f4",
    "_uuid": "51a2d7217e380f88f5e19c8a2f09c293c2372ad9"
   },
   "source": [
    "\n",
    "## Approach\n",
    "\n",
    "I split the original training data into 80% training and 20% validation. This helps to see weather we're over-fitting on the training data and weather we should lower the learning rate and train for more epochs if validation accuracy is higher than training accuracy or stop over-training if training accuracy shift higher than the validation.\n",
    "\n",
    "To be consistent here, all the models are initially trained for 10 epochs and another 10 epochs with a lower learning late. After the initial 20 epochs, I added data augmentation, which generates new training samples by rotating, shifting and zooming on the training samples, and trained for another 50 epochs.\n",
    "\n",
    "## Observations\n",
    "All the models achieved a higher accuracy after using data augmentation. Almost always use data augmentation!!\n",
    "\n",
    "VGG Like Model With Batchnorm performed the best and achieved a accuarcy of 94% using data augmentation."
   ]
  },
  {
   "cell_type": "markdown",
   "metadata": {
    "_cell_guid": "2b072a94-1741-44d8-b8c6-70b6d3bf26f5",
    "_uuid": "60623fe7a499e204fe1a8fc40306e23fc4bed6b9"
   },
   "source": [
    "# Required Libaries"
   ]
  },
  {
   "cell_type": "code",
   "execution_count": 1,
   "metadata": {
    "_cell_guid": "589f9d13-5199-49a0-a7b7-e024f3dababe",
    "_uuid": "e635131214984d911af2bf44417624fa148c2587"
   },
   "outputs": [
    {
     "name": "stderr",
     "output_type": "stream",
     "text": [
      "Using TensorFlow backend.\n"
     ]
    }
   ],
   "source": [
    "import keras\n",
    "from keras.datasets import mnist\n",
    "from keras.models import Sequential\n",
    "from keras.layers import Dense, Dropout, Flatten, Lambda\n",
    "from keras.layers import Conv2D, MaxPooling2D, BatchNormalization\n",
    "from keras.optimizers import Adam\n",
    "import matplotlib.pyplot as plt\n",
    "import matplotlib.image as mpimg\n",
    "from keras.preprocessing.image import ImageDataGenerator\n",
    "import numpy as np\n",
    "import pandas as pd\n",
    "np.random.seed(12345)\n",
    "%matplotlib inline"
   ]
  },
  {
   "cell_type": "markdown",
   "metadata": {
    "_cell_guid": "dc033136-0df8-4a44-b661-360f19748efe",
    "_uuid": "e66cb0a2414dcd303f018a0044725145470d36f8"
   },
   "source": [
    "[](http://)#  Load Fashion-MNIST"
   ]
  },
  {
   "cell_type": "code",
   "execution_count": 2,
   "metadata": {
    "_cell_guid": "ee0c0d1f-d70d-42e2-a6b4-f176d803e783",
    "_uuid": "df826606b3e114832ed53beb5a7f61c1668567d9",
    "collapsed": true
   },
   "outputs": [],
   "source": [
    "batch_size = 512\n",
    "train_data = np.array(pd.read_csv('fashion-mnist_train.csv'))\n",
    "test_data = np.array(pd.read_csv('fashion-mnist_test.csv'))"
   ]
  },
  {
   "cell_type": "code",
   "execution_count": 3,
   "metadata": {
    "_cell_guid": "2d512e98-8c16-441a-8dcf-0fa46f7be854",
    "_uuid": "9b734f51e115ac2e8964500dad59fab881b8a972"
   },
   "outputs": [
    {
     "data": {
      "text/plain": [
       "(10000, 785)"
      ]
     },
     "execution_count": 3,
     "metadata": {},
     "output_type": "execute_result"
    }
   ],
   "source": [
    "test_data.shape"
   ]
  },
  {
   "cell_type": "code",
   "execution_count": 4,
   "metadata": {
    "_cell_guid": "3488a1c6-cdb1-4adf-baf9-bf52d1103100",
    "_uuid": "fa7d154063450193160983a6777ec32a923d2e36"
   },
   "outputs": [
    {
     "data": {
      "text/plain": [
       "array([2, 9, 6, ..., 8, 8, 7])"
      ]
     },
     "execution_count": 4,
     "metadata": {},
     "output_type": "execute_result"
    }
   ],
   "source": [
    "train_data[:, 0]"
   ]
  },
  {
   "cell_type": "code",
   "execution_count": 5,
   "metadata": {
    "_cell_guid": "7f2dac3d-c66b-411b-aeb5-a2ab41542b69",
    "_uuid": "483925b5781d403d23b16a7f674bd4073a562922",
    "collapsed": true
   },
   "outputs": [],
   "source": [
    "X_train_orig = train_data[:, 1:785]\n",
    "y_train_orig = train_data[:, 0]\n",
    "X_test = train_data[:, 1:785]\n",
    "y_test = train_data[:, 0]"
   ]
  },
  {
   "cell_type": "code",
   "execution_count": 6,
   "metadata": {
    "_cell_guid": "aad436a2-b33a-4d13-a2e7-653996070b89",
    "_uuid": "615e60ec2c86e8358a0215c2de83b43f7f751300",
    "collapsed": true
   },
   "outputs": [],
   "source": [
    "X_train_orig = X_train_orig.astype('float32')\n",
    "X_test = X_test.astype('float32')\n",
    "X_train_orig /= 255\n",
    "X_test /= 255"
   ]
  },
  {
   "cell_type": "code",
   "execution_count": 7,
   "metadata": {
    "_cell_guid": "0502a230-619f-4a73-a7aa-0ad4ff267928",
    "_uuid": "d1392ac071bcd4edb1f3c5e2b3c1e813004c30e6"
   },
   "outputs": [
    {
     "name": "stdout",
     "output_type": "stream",
     "text": [
      "(60000, 784)\n",
      "(60000,)\n",
      "(60000, 784)\n",
      "(60000,)\n"
     ]
    }
   ],
   "source": [
    "print(X_train_orig.shape)\n",
    "print(y_train_orig.shape)\n",
    "print(X_test.shape)\n",
    "print(y_test.shape)"
   ]
  },
  {
   "cell_type": "code",
   "execution_count": 8,
   "metadata": {
    "_cell_guid": "ff32cc30-54db-466b-8c4f-f31735686af1",
    "_uuid": "a110cddd5bbfc68727bdd4b8595d8abc65c050c4",
    "collapsed": true
   },
   "outputs": [],
   "source": [
    "from sklearn.model_selection import train_test_split\n",
    "X_train, X_val, y_train, y_val = train_test_split(X_train_orig, y_train_orig, test_size=0.2, random_state=12345)"
   ]
  },
  {
   "cell_type": "code",
   "execution_count": 9,
   "metadata": {
    "_cell_guid": "7c82a113-8787-4897-ac0f-30ae981b02ef",
    "_uuid": "338bd2e7157ced3e75baef0b0daaa20fd55d68e1"
   },
   "outputs": [
    {
     "name": "stdout",
     "output_type": "stream",
     "text": [
      "(48000, 784)\n",
      "(48000,)\n",
      "(12000, 784)\n",
      "(12000,)\n"
     ]
    }
   ],
   "source": [
    "print(X_train.shape)\n",
    "print(y_train.shape)\n",
    "print(X_val.shape)\n",
    "print(y_val.shape)"
   ]
  },
  {
   "cell_type": "code",
   "execution_count": 10,
   "metadata": {
    "_cell_guid": "f881e1d5-5b9a-4d12-ab65-d9a2f5c721d2",
    "_uuid": "16a8322d50a0ca2ec19ce25e001b21d13edb1705"
   },
   "outputs": [
    {
     "data": {
      "text/plain": [
       "<matplotlib.image.AxesImage at 0x7fadf29dff28>"
      ]
     },
     "execution_count": 10,
     "metadata": {},
     "output_type": "execute_result"
    },
    {
     "data": {
      "image/png": "[encoded data removed]",
      "text/plain": [
       "<matplotlib.figure.Figure at 0x7fae028bddd8>"
      ]
     },
     "metadata": {},
     "output_type": "display_data"
    }
   ],
   "source": [
    "plt.imshow(X_train[2, :].reshape((28, 28)))"
   ]
  },
  {
   "cell_type": "markdown",
   "metadata": {
    "_cell_guid": "bcf13c1b-6d5b-49fb-a358-b93f750e5097",
    "_uuid": "395a9514bc1914bb6e95f1353c0a0aab0c027e92"
   },
   "source": [
    "# 2 Layer Neural Network"
   ]
  },
  {
   "cell_type": "code",
   "execution_count": 11,
   "metadata": {
    "_cell_guid": "2065d4e1-62b9-47aa-b6c0-dfd35823737e",
    "_uuid": "c2f795803df39f88c113e23cb807fb954632779b",
    "collapsed": true
   },
   "outputs": [],
   "source": [
    "model = Sequential([\n",
    "    Dense(512, input_shape=(784,), activation='relu'),\n",
    "    Dense(128, activation = 'relu'),\n",
    "    Dense(10, activation='softmax')\n",
    "])"
   ]
  },
  {
   "cell_type": "code",
   "execution_count": 12,
   "metadata": {
    "_cell_guid": "3ee9d185-80b1-40fa-89a7-258b5b539d5b",
    "_uuid": "0883cadc953f86c0de43d847f482197a4bb92c0f"
   },
   "outputs": [
    {
     "name": "stdout",
     "output_type": "stream",
     "text": [
      "_________________________________________________________________\n",
      "Layer (type)                 Output Shape              Param #   \n",
      "=================================================================\n",
      "dense_1 (Dense)              (None, 512)               401920    \n",
      "_________________________________________________________________\n",
      "dense_2 (Dense)              (None, 128)               65664     \n",
      "_________________________________________________________________\n",
      "dense_3 (Dense)              (None, 10)                1290      \n",
      "=================================================================\n",
      "Total params: 468,874\n",
      "Trainable params: 468,874\n",
      "Non-trainable params: 0\n",
      "_________________________________________________________________\n"
     ]
    }
   ],
   "source": [
    "model.summary()"
   ]
  },
  {
   "cell_type": "code",
   "execution_count": 13,
   "metadata": {
    "_cell_guid": "04d0289b-1365-4f53-a985-4384fbc5a465",
    "_uuid": "bcf467474a3365b142bd74c84960ab86ce30863e",
    "collapsed": true
   },
   "outputs": [],
   "source": [
    "model.compile(optimizer=Adam(lr=0.001),\n",
    "              loss='sparse_categorical_crossentropy',\n",
    "              metrics=['accuracy'])"
   ]
  },
  {
   "cell_type": "code",
   "execution_count": 14,
   "metadata": {
    "_cell_guid": "2231ac06-af6b-4f61-93e5-cf6bd8e64bd4",
    "_uuid": "9be7449a6c198f89b8dac19234d1ae226c618c36",
    "scrolled": true
   },
   "outputs": [
    {
     "name": "stdout",
     "output_type": "stream",
     "text": [
      "Train on 48000 samples, validate on 12000 samples\n",
      "Epoch 1/20\n",
      "48000/48000 [==============================] - 2s - loss: 0.6253 - acc: 0.7859 - val_loss: 0.4427 - val_acc: 0.84970.78\n",
      "Epoch 2/20\n",
      "48000/48000 [==============================] - 2s - loss: 0.4236 - acc: 0.8499 - val_loss: 0.3982 - val_acc: 0.8614\n",
      "Epoch 3/20\n",
      "48000/48000 [==============================] - 2s - loss: 0.3747 - acc: 0.8681 - val_loss: 0.3593 - val_acc: 0.8753\n",
      "Epoch 4/20\n",
      "48000/48000 [==============================] - 2s - loss: 0.3453 - acc: 0.8766 - val_loss: 0.3361 - val_acc: 0.8826\n",
      "Epoch 5/20\n",
      "48000/48000 [==============================] - 2s - loss: 0.3187 - acc: 0.8865 - val_loss: 0.3211 - val_acc: 0.8849\n",
      "Epoch 6/20\n",
      "48000/48000 [==============================] - 2s - loss: 0.3001 - acc: 0.8911 - val_loss: 0.3487 - val_acc: 0.8717\n",
      "Epoch 7/20\n",
      "48000/48000 [==============================] - 2s - loss: 0.2910 - acc: 0.8943 - val_loss: 0.3031 - val_acc: 0.8902\n",
      "Epoch 8/20\n",
      "48000/48000 [==============================] - 2s - loss: 0.2743 - acc: 0.9003 - val_loss: 0.3065 - val_acc: 0.8889\n",
      "Epoch 9/20\n",
      "48000/48000 [==============================] - 2s - loss: 0.2621 - acc: 0.9038 - val_loss: 0.3024 - val_acc: 0.8929\n",
      "Epoch 10/20\n",
      "48000/48000 [==============================] - 2s - loss: 0.2520 - acc: 0.9082 - val_loss: 0.2926 - val_acc: 0.8940\n",
      "Epoch 11/20\n",
      "48000/48000 [==============================] - 2s - loss: 0.2455 - acc: 0.9095 - val_loss: 0.3181 - val_acc: 0.8852\n",
      "Epoch 12/20\n",
      "48000/48000 [==============================] - 2s - loss: 0.2338 - acc: 0.9145 - val_loss: 0.3049 - val_acc: 0.8922\n",
      "Epoch 13/20\n",
      "48000/48000 [==============================] - 2s - loss: 0.2265 - acc: 0.9159 - val_loss: 0.2875 - val_acc: 0.8966\n",
      "Epoch 14/20\n",
      "48000/48000 [==============================] - 2s - loss: 0.2184 - acc: 0.9190 - val_loss: 0.2916 - val_acc: 0.8964\n",
      "Epoch 15/20\n",
      "48000/48000 [==============================] - 2s - loss: 0.2098 - acc: 0.9232 - val_loss: 0.3018 - val_acc: 0.8949\n",
      "Epoch 16/20\n",
      "48000/48000 [==============================] - 2s - loss: 0.1993 - acc: 0.9262 - val_loss: 0.3143 - val_acc: 0.8856\n",
      "Epoch 17/20\n",
      "48000/48000 [==============================] - 2s - loss: 0.1948 - acc: 0.9279 - val_loss: 0.3016 - val_acc: 0.8958\n",
      "Epoch 18/20\n",
      "48000/48000 [==============================] - 2s - loss: 0.1886 - acc: 0.9308 - val_loss: 0.2943 - val_acc: 0.8980\n",
      "Epoch 19/20\n",
      "48000/48000 [==============================] - 2s - loss: 0.1819 - acc: 0.9327 - val_loss: 0.3015 - val_acc: 0.8944\n",
      "Epoch 20/20\n",
      "48000/48000 [==============================] - 2s - loss: 0.1795 - acc: 0.9331 - val_loss: 0.3049 - val_acc: 0.8938\n"
     ]
    }
   ],
   "source": [
    "history = model.fit(X_train, y_train,\n",
    "                    batch_size=batch_size,\n",
    "                    epochs=20,\n",
    "                    verbose=1,\n",
    "                    validation_data=(X_val, y_val))"
   ]
  },
  {
   "cell_type": "code",
   "execution_count": 15,
   "metadata": {
    "_cell_guid": "3c50fdb9-22f4-4bc4-966e-e89b3f9e73e3",
    "_uuid": "c38fe1ad66fb91283222c5e4d4bba2a9af387da6"
   },
   "outputs": [
    {
     "name": "stdout",
     "output_type": "stream",
     "text": [
      "Test loss: 0.194042544499\n",
      "Test accuracy: 0.93\n"
     ]
    }
   ],
   "source": [
    "score = model.evaluate(X_test, y_test, verbose=0)\n",
    "print('Test loss:', score[0])\n",
    "print('Test accuracy:', score[1])"
   ]
  },
  {
   "cell_type": "markdown",
   "metadata": {
    "_cell_guid": "f5d447c9-b03f-43c8-b94c-2f46d184223b",
    "_uuid": "34a4158d03ab1c76c1f16514308760927f57a2ac"
   },
   "source": [
    "# CNN with 1 Convolutional Layer"
   ]
  },
  {
   "cell_type": "code",
   "execution_count": 16,
   "metadata": {
    "_cell_guid": "5e165ec3-ac4b-4592-93aa-0f3181251011",
    "_uuid": "3096beab8cf7e37b3c8a34f106d3269cd93cb067",
    "collapsed": true
   },
   "outputs": [],
   "source": [
    "img_rows = 28\n",
    "img_cols = 28\n",
    "input_shape = (img_rows, img_cols, 1)\n",
    "X_train = X_train.reshape(X_train.shape[0], img_rows, img_cols, 1)\n",
    "X_test = X_test.reshape(X_test.shape[0], img_rows, img_cols, 1)\n",
    "X_val = X_val.reshape(X_val.shape[0], img_rows, img_cols, 1)"
   ]
  },
  {
   "cell_type": "code",
   "execution_count": 17,
   "metadata": {
    "_cell_guid": "ce8f161d-9f90-46d6-ae38-34aa9f3b1055",
    "_uuid": "7ebdb312392bf8537097e8c11936f8599a41ece1",
    "collapsed": true
   },
   "outputs": [],
   "source": [
    "cnn1 = Sequential([\n",
    "    Conv2D(32, kernel_size=(3, 3), activation='relu', input_shape=input_shape),\n",
    "    MaxPooling2D(pool_size=(2, 2)),\n",
    "    Dropout(0.2),\n",
    "    Flatten(),\n",
    "    Dense(128, activation='relu'),\n",
    "    Dense(10, activation='softmax')\n",
    "])"
   ]
  },
  {
   "cell_type": "code",
   "execution_count": 18,
   "metadata": {
    "_cell_guid": "6b7116db-8fe1-439d-9e42-c7636a8fd350",
    "_uuid": "83f6375a6e8ef8a15061188ac851a00646327f85",
    "collapsed": true
   },
   "outputs": [],
   "source": [
    "cnn1.compile(loss='sparse_categorical_crossentropy',\n",
    "              optimizer=Adam(lr=0.001),\n",
    "              metrics=['accuracy'])"
   ]
  },
  {
   "cell_type": "code",
   "execution_count": 19,
   "metadata": {
    "_cell_guid": "42227737-4854-4c61-95e8-63996f4980c9",
    "_uuid": "d0d0717dcd1900fbb7c1cac1f5ee58828af56363"
   },
   "outputs": [
    {
     "name": "stdout",
     "output_type": "stream",
     "text": [
      "Train on 48000 samples, validate on 12000 samples\n",
      "Epoch 1/10\n",
      "48000/48000 [==============================] - 24s - loss: 0.6403 - acc: 0.7832 - val_loss: 0.4257 - val_acc: 0.8524\n",
      "Epoch 2/10\n",
      "48000/48000 [==============================] - 22s - loss: 0.4051 - acc: 0.8562 - val_loss: 0.3548 - val_acc: 0.8781\n",
      "Epoch 3/10\n",
      "48000/48000 [==============================] - 21s - loss: 0.3489 - acc: 0.8765 - val_loss: 0.3351 - val_acc: 0.8819. - ETA: 7s - los - ETA: 2s - loss: 0.3486 - \n",
      "Epoch 4/10\n",
      "48000/48000 [==============================] - 19s - loss: 0.3212 - acc: 0.8860 - val_loss: 0.3033 - val_acc: 0.89410.87 - ETA: 17s  - ETA: 14s - loss: 0.33\n",
      "Epoch 5/10\n",
      "48000/48000 [==============================] - 19s - loss: 0.3016 - acc: 0.8935 - val_loss: 0.3029 - val_acc: 0.8944\n",
      "Epoch 6/10\n",
      "48000/48000 [==============================] - 19s - loss: 0.2840 - acc: 0.8991 - val_loss: 0.2918 - val_acc: 0.8967 acc:  - ETA: 10s  - ETA: 4s - loss: 0.2852 - acc: 0.8 - ETA: 4s - loss:\n",
      "Epoch 7/10\n",
      "48000/48000 [==============================] - 19s - loss: 0.2724 - acc: 0.9017 - val_loss: 0.2749 - val_acc: 0.9026\n",
      "Epoch 8/10\n",
      "48000/48000 [==============================] - 19s - loss: 0.2631 - acc: 0.9051 - val_loss: 0.2825 - val_acc: 0.8982\n",
      "Epoch 9/10\n",
      "48000/48000 [==============================] - 18s - loss: 0.2497 - acc: 0.9114 - val_loss: 0.2567 - val_acc: 0.9094\n",
      "Epoch 10/10\n",
      "48000/48000 [==============================] - 18s - loss: 0.2409 - acc: 0.9137 - val_loss: 0.2555 - val_acc: 0.9095\n"
     ]
    },
    {
     "data": {
      "text/plain": [
       "<keras.callbacks.History at 0x7fae03405ef0>"
      ]
     },
     "execution_count": 19,
     "metadata": {},
     "output_type": "execute_result"
    }
   ],
   "source": [
    "cnn1.fit(X_train, y_train,\n",
    "          batch_size=batch_size,\n",
    "          epochs=10,\n",
    "          verbose=1,\n",
    "          validation_data=(X_val, y_val))"
   ]
  },
  {
   "cell_type": "code",
   "execution_count": 20,
   "metadata": {
    "_cell_guid": "02d78317-107a-414c-8d54-13345761637c",
    "_uuid": "dd3dbb74d3c9d34f267b87a0a36b09ef3015bd79",
    "collapsed": true
   },
   "outputs": [],
   "source": [
    "cnn1.optimizer.lr = 0.0001"
   ]
  },
  {
   "cell_type": "code",
   "execution_count": 21,
   "metadata": {
    "_cell_guid": "c46b6f66-8384-41d6-bb1e-219cdc486edc",
    "_uuid": "966382910cc05fb916e4a92a41035425a9951626"
   },
   "outputs": [
    {
     "name": "stdout",
     "output_type": "stream",
     "text": [
      "Train on 48000 samples, validate on 12000 samples\n",
      "Epoch 1/10\n",
      "48000/48000 [==============================] - 18s - loss: 0.2350 - acc: 0.9150 - val_loss: 0.2479 - val_acc: 0.9110\n",
      "Epoch 2/10\n",
      "48000/48000 [==============================] - 18s - loss: 0.2259 - acc: 0.9171 - val_loss: 0.2589 - val_acc: 0.9083\n",
      "Epoch 3/10\n",
      "48000/48000 [==============================] - 18s - loss: 0.2183 - acc: 0.9203 - val_loss: 0.2524 - val_acc: 0.9107.\n",
      "Epoch 4/10\n",
      "48000/48000 [==============================] - 18s - loss: 0.2082 - acc: 0.9250 - val_loss: 0.2377 - val_acc: 0.9154\n",
      "Epoch 5/10\n",
      "48000/48000 [==============================] - 18s - loss: 0.2027 - acc: 0.9266 - val_loss: 0.2487 - val_acc: 0.9082\n",
      "Epoch 6/10\n",
      "48000/48000 [==============================] - 19s - loss: 0.1954 - acc: 0.9300 - val_loss: 0.2440 - val_acc: 0.9143\n",
      "Epoch 7/10\n",
      "48000/48000 [==============================] - 19s - loss: 0.1920 - acc: 0.9311 - val_loss: 0.2381 - val_acc: 0.9155\n",
      "Epoch 8/10\n",
      "48000/48000 [==============================] - 19s - loss: 0.1839 - acc: 0.9336 - val_loss: 0.2320 - val_acc: 0.9177\n",
      "Epoch 9/10\n",
      "48000/48000 [==============================] - 18s - loss: 0.1796 - acc: 0.9345 - val_loss: 0.2381 - val_acc: 0.9170\n",
      "Epoch 10/10\n",
      "48000/48000 [==============================] - 18s - loss: 0.1741 - acc: 0.9374 - val_loss: 0.2389 - val_acc: 0.9156\n"
     ]
    },
    {
     "data": {
      "text/plain": [
       "<keras.callbacks.History at 0x7fad746b06a0>"
      ]
     },
     "execution_count": 21,
     "metadata": {},
     "output_type": "execute_result"
    }
   ],
   "source": [
    "cnn1.fit(X_train, y_train,\n",
    "          batch_size=batch_size,\n",
    "          epochs=10,\n",
    "          verbose=1,\n",
    "          validation_data=(X_val, y_val))"
   ]
  },
  {
   "cell_type": "code",
   "execution_count": 22,
   "metadata": {
    "_cell_guid": "c05c4a55-5ddb-4aeb-b9c4-25e8e49ca104",
    "_uuid": "791175618d8164211f87a5c12a3ba8a6c427b284"
   },
   "outputs": [
    {
     "name": "stdout",
     "output_type": "stream",
     "text": [
      "Test loss: 0.166777265798\n",
      "Test accuracy: 0.941816666667\n"
     ]
    }
   ],
   "source": [
    "score = cnn1.evaluate(X_test, y_test, verbose=0)\n",
    "print('Test loss:', score[0])\n",
    "print('Test accuracy:', score[1])"
   ]
  },
  {
   "cell_type": "markdown",
   "metadata": {
    "_cell_guid": "c22d268a-d1c8-4b0f-9ecb-12e23b8a9a55",
    "_uuid": "8ad2e05adebf79d85e663080fdef208d973a14fa"
   },
   "source": [
    "### Data Augmentation"
   ]
  },
  {
   "cell_type": "code",
   "execution_count": 23,
   "metadata": {
    "_cell_guid": "6fdfbf7e-5c70-457e-a14b-f96702c20bf7",
    "_uuid": "c3483f4911fcb532ffdaac52451258644602e617",
    "collapsed": true
   },
   "outputs": [],
   "source": [
    "gen = ImageDataGenerator(rotation_range=8, width_shift_range=0.08, shear_range=0.3,\n",
    "                               height_shift_range=0.08, zoom_range=0.08)\n",
    "batches = gen.flow(X_train, y_train, batch_size=batch_size)\n",
    "val_batches = gen.flow(X_val, y_val, batch_size=batch_size)"
   ]
  },
  {
   "cell_type": "code",
   "execution_count": 24,
   "metadata": {
    "_cell_guid": "23d4f3cf-714b-4fe7-b954-ec9237af9228",
    "_uuid": "2bc30b269a74fccd4262ea3697e6af786b2479b9",
    "scrolled": true
   },
   "outputs": [
    {
     "name": "stdout",
     "output_type": "stream",
     "text": [
      "Epoch 1/50\n",
      "93/93 [==============================] - 24s - loss: 0.5402 - acc: 0.7990 - val_loss: 0.4564 - val_acc: 0.8304\n",
      "Epoch 2/50\n",
      "93/93 [==============================] - 23s - loss: 0.4525 - acc: 0.8306 - val_loss: 0.4265 - val_acc: 0.8398\n",
      "Epoch 3/50\n",
      "93/93 [==============================] - 22s - loss: 0.4361 - acc: 0.8371 - val_loss: 0.3999 - val_acc: 0.8513.837\n",
      "Epoch 4/50\n",
      "93/93 [==============================] - 23s - loss: 0.4162 - acc: 0.8438 - val_loss: 0.4104 - val_acc: 0.8458\n",
      "Epoch 5/50\n",
      "93/93 [==============================] - 23s - loss: 0.4011 - acc: 0.8491 - val_loss: 0.3993 - val_acc: 0.8483\n",
      "Epoch 6/50\n",
      "93/93 [==============================] - 22s - loss: 0.3942 - acc: 0.8523 - val_loss: 0.3888 - val_acc: 0.8527 ETA: 3s - loss: 0.3\n",
      "Epoch 7/50\n",
      "93/93 [==============================] - 23s - loss: 0.3861 - acc: 0.8550 - val_loss: 0.3716 - val_acc: 0.8619\n",
      "Epoch 8/50\n",
      "93/93 [==============================] - 22s - loss: 0.3804 - acc: 0.8577 - val_loss: 0.3575 - val_acc: 0.8685\n",
      "Epoch 9/50\n",
      "93/93 [==============================] - 22s - loss: 0.3686 - acc: 0.8637 - val_loss: 0.3572 - val_acc: 0.8664\n",
      "Epoch 10/50\n",
      "93/93 [==============================] - 23s - loss: 0.3662 - acc: 0.8622 - val_loss: 0.3679 - val_acc: 0.8584\n",
      "Epoch 11/50\n",
      "93/93 [==============================] - 22s - loss: 0.3652 - acc: 0.8649 - val_loss: 0.3571 - val_acc: 0.8642\n",
      "Epoch 12/50\n",
      "93/93 [==============================] - 22s - loss: 0.3600 - acc: 0.8665 - val_loss: 0.3470 - val_acc: 0.8709\n",
      "Epoch 13/50\n",
      "93/93 [==============================] - 22s - loss: 0.3511 - acc: 0.8681 - val_loss: 0.3394 - val_acc: 0.8736\n",
      "Epoch 14/50\n",
      "93/93 [==============================] - 22s - loss: 0.3534 - acc: 0.8686 - val_loss: 0.3540 - val_acc: 0.8671\n",
      "Epoch 15/50\n",
      "93/93 [==============================] - 22s - loss: 0.3497 - acc: 0.8695 - val_loss: 0.3260 - val_acc: 0.8792\n",
      "Epoch 16/50\n",
      "93/93 [==============================] - 23s - loss: 0.3479 - acc: 0.8706 - val_loss: 0.3394 - val_acc: 0.8718\n",
      "Epoch 17/50\n",
      "93/93 [==============================] - 23s - loss: 0.3476 - acc: 0.8693 - val_loss: 0.3406 - val_acc: 0.8740\n",
      "Epoch 18/50\n",
      "93/93 [==============================] - 22s - loss: 0.3392 - acc: 0.8743 - val_loss: 0.3287 - val_acc: 0.8779\n",
      "Epoch 19/50\n",
      "93/93 [==============================] - 23s - loss: 0.3318 - acc: 0.8769 - val_loss: 0.3327 - val_acc: 0.8764\n",
      "Epoch 20/50\n",
      "93/93 [==============================] - 23s - loss: 0.3347 - acc: 0.8749 - val_loss: 0.3338 - val_acc: 0.8764\n",
      "Epoch 21/50\n",
      "93/93 [==============================] - 23s - loss: 0.3329 - acc: 0.8754 - val_loss: 0.3256 - val_acc: 0.8783\n",
      "Epoch 22/50\n",
      "93/93 [==============================] - 23s - loss: 0.3263 - acc: 0.8767 - val_loss: 0.3116 - val_acc: 0.8843\n",
      "Epoch 23/50\n",
      "93/93 [==============================] - 23s - loss: 0.3273 - acc: 0.8794 - val_loss: 0.3249 - val_acc: 0.8803\n",
      "Epoch 24/50\n",
      "93/93 [==============================] - 24s - loss: 0.3234 - acc: 0.8787 - val_loss: 0.3317 - val_acc: 0.8786\n",
      "Epoch 25/50\n",
      "93/93 [==============================] - 22s - loss: 0.3173 - acc: 0.8820 - val_loss: 0.3135 - val_acc: 0.8842\n",
      "Epoch 26/50\n",
      "93/93 [==============================] - 22s - loss: 0.3205 - acc: 0.8804 - val_loss: 0.3212 - val_acc: 0.8813\n",
      "Epoch 27/50\n",
      "93/93 [==============================] - 22s - loss: 0.3214 - acc: 0.8790 - val_loss: 0.3207 - val_acc: 0.8767\n",
      "Epoch 28/50\n",
      "93/93 [==============================] - 22s - loss: 0.3179 - acc: 0.8818 - val_loss: 0.3124 - val_acc: 0.8849\n",
      "Epoch 29/50\n",
      "93/93 [==============================] - 22s - loss: 0.3144 - acc: 0.8828 - val_loss: 0.3220 - val_acc: 0.8796\n",
      "Epoch 30/50\n",
      "93/93 [==============================] - 21s - loss: 0.3138 - acc: 0.8820 - val_loss: 0.3021 - val_acc: 0.8875\n",
      "Epoch 31/50\n",
      "93/93 [==============================] - 22s - loss: 0.3132 - acc: 0.8837 - val_loss: 0.3138 - val_acc: 0.8812\n",
      "Epoch 32/50\n",
      "93/93 [==============================] - 22s - loss: 0.3083 - acc: 0.8859 - val_loss: 0.3137 - val_acc: 0.8850\n",
      "Epoch 33/50\n",
      "93/93 [==============================] - 23s - loss: 0.3071 - acc: 0.8844 - val_loss: 0.3095 - val_acc: 0.8844\n",
      "Epoch 34/50\n",
      "93/93 [==============================] - 23s - loss: 0.3089 - acc: 0.8846 - val_loss: 0.3167 - val_acc: 0.8824\n",
      "Epoch 35/50\n",
      "93/93 [==============================] - 25s - loss: 0.3083 - acc: 0.8831 - val_loss: 0.3031 - val_acc: 0.8873\n",
      "Epoch 36/50\n",
      "93/93 [==============================] - 24s - loss: 0.3071 - acc: 0.8853 - val_loss: 0.3216 - val_acc: 0.8762\n",
      "Epoch 37/50\n",
      "93/93 [==============================] - 35s - loss: 0.3005 - acc: 0.8888 - val_loss: 0.3061 - val_acc: 0.8886\n",
      "Epoch 38/50\n",
      "93/93 [==============================] - 36s - loss: 0.2962 - acc: 0.8890 - val_loss: 0.3181 - val_acc: 0.8811\n",
      "Epoch 39/50\n",
      "93/93 [==============================] - 37s - loss: 0.3052 - acc: 0.8869 - val_loss: 0.3067 - val_acc: 0.8845\n",
      "Epoch 40/50\n",
      "93/93 [==============================] - 29s - loss: 0.2965 - acc: 0.8898 - val_loss: 0.2983 - val_acc: 0.8899\n",
      "Epoch 41/50\n",
      "93/93 [==============================] - 28s - loss: 0.2966 - acc: 0.8883 - val_loss: 0.3080 - val_acc: 0.8853\n",
      "Epoch 42/50\n",
      "93/93 [==============================] - 34s - loss: 0.2990 - acc: 0.8885 - val_loss: 0.2978 - val_acc: 0.8876\n",
      "Epoch 43/50\n",
      "93/93 [==============================] - 37s - loss: 0.2885 - acc: 0.8917 - val_loss: 0.3081 - val_acc: 0.8846\n",
      "Epoch 44/50\n",
      "93/93 [==============================] - 40s - loss: 0.2980 - acc: 0.8873 - val_loss: 0.2988 - val_acc: 0.8889\n",
      "Epoch 45/50\n",
      "93/93 [==============================] - 43s - loss: 0.2935 - acc: 0.8898 - val_loss: 0.3052 - val_acc: 0.8888\n",
      "Epoch 46/50\n",
      "93/93 [==============================] - 47s - loss: 0.2903 - acc: 0.8924 - val_loss: 0.2970 - val_acc: 0.8909\n",
      "Epoch 47/50\n",
      "93/93 [==============================] - 43s - loss: 0.2913 - acc: 0.8917 - val_loss: 0.2919 - val_acc: 0.8928\n",
      "Epoch 48/50\n",
      "93/93 [==============================] - 23s - loss: 0.2916 - acc: 0.8919 - val_loss: 0.3009 - val_acc: 0.8885\n",
      "Epoch 49/50\n",
      "93/93 [==============================] - 22s - loss: 0.2845 - acc: 0.8941 - val_loss: 0.2944 - val_acc: 0.8889\n",
      "Epoch 50/50\n",
      "93/93 [==============================] - 21s - loss: 0.2936 - acc: 0.8902 - val_loss: 0.3096 - val_acc: 0.8843\n"
     ]
    },
    {
     "data": {
      "text/plain": [
       "<keras.callbacks.History at 0x7fad746e7fd0>"
      ]
     },
     "execution_count": 24,
     "metadata": {},
     "output_type": "execute_result"
    }
   ],
   "source": [
    "cnn1.fit_generator(batches, steps_per_epoch=48000//batch_size, epochs=50, \n",
    "                    validation_data=val_batches, validation_steps=12000//batch_size, use_multiprocessing=False)"
   ]
  },
  {
   "cell_type": "code",
   "execution_count": 25,
   "metadata": {
    "_cell_guid": "717e2f3e-da7d-4510-875a-33edf0c4edbf",
    "_uuid": "a072972a4989085fe831ea284ab1046755ca2994"
   },
   "outputs": [
    {
     "name": "stdout",
     "output_type": "stream",
     "text": [
      "Test loss: 0.196491678878\n",
      "Test accuracy: 0.927666666667\n"
     ]
    }
   ],
   "source": [
    "score = cnn1.evaluate(X_test, y_test, verbose=0)\n",
    "print('Test loss:', score[0])\n",
    "print('Test accuracy:', score[1])"
   ]
  },
  {
   "cell_type": "markdown",
   "metadata": {
    "_cell_guid": "a4958571-b41f-498a-86b9-df85b497be02",
    "_uuid": "a93cb5d9b9ce403b2817737ab857872a619022d8",
    "collapsed": true
   },
   "source": [
    "# CNN with 3 Convolutional Layers"
   ]
  },
  {
   "cell_type": "code",
   "execution_count": 26,
   "metadata": {
    "_cell_guid": "ce11f9bf-8463-4a04-89ba-be2ca94b91a5",
    "_uuid": "c0df52f6fbf775aa017dbf7dca389fc1125e9daa",
    "collapsed": true
   },
   "outputs": [],
   "source": [
    "cnn2 = Sequential([\n",
    "    Conv2D(32, kernel_size=(3, 3), activation='relu', input_shape=input_shape),\n",
    "    MaxPooling2D(pool_size=(2, 2)),\n",
    "    Dropout(0.2),\n",
    "\n",
    "    Conv2D(64, kernel_size=(3, 3), activation='relu'),\n",
    "    MaxPooling2D(pool_size=(2, 2)),\n",
    "    Dropout(0.2),\n",
    "\n",
    "    Conv2D(128, kernel_size=(3, 3), activation='relu'),\n",
    "    Dropout(0.2),\n",
    "\n",
    "    Flatten(),\n",
    "\n",
    "    Dense(128, activation='relu'),\n",
    "    Dropout(0.2),\n",
    "    Dense(10, activation='softmax')\n",
    "])"
   ]
  },
  {
   "cell_type": "code",
   "execution_count": null,
   "metadata": {
    "_cell_guid": "2e757699-7f0f-40f5-a7ee-e41eae083e1d",
    "_uuid": "8c655e1a4c1af50773ff15567c398b5146b4f811",
    "collapsed": true
   },
   "outputs": [],
   "source": [
    "cnn2.compile(loss='sparse_categorical_crossentropy',\n",
    "              optimizer=Adam(lr=0.001),\n",
    "              metrics=['accuracy'])"
   ]
  },
  {
   "cell_type": "code",
   "execution_count": null,
   "metadata": {
    "_cell_guid": "81d6e812-e112-4907-9d09-fce19b3ea607",
    "_uuid": "f3c8ec04810f7e6180e0dd36bbc1d3cf313f8b1e"
   },
   "outputs": [
    {
     "name": "stdout",
     "output_type": "stream",
     "text": [
      "Train on 48000 samples, validate on 12000 samples\n",
      "Epoch 1/10\n",
      "48000/48000 [==============================] - 48s - loss: 0.9643 - acc: 0.6429 - val_loss: 0.5694 - val_acc: 0.7856\n",
      "Epoch 2/10\n",
      "48000/48000 [==============================] - 63s - loss: 0.5698 - acc: 0.7838 - val_loss: 0.4655 - val_acc: 0.8258\n",
      "Epoch 3/10\n",
      "48000/48000 [==============================] - 61s - loss: 0.4911 - acc: 0.8180 - val_loss: 0.4148 - val_acc: 0.8482\n",
      "Epoch 4/10\n",
      "48000/48000 [==============================] - 50s - loss: 0.4378 - acc: 0.8374 - val_loss: 0.3789 - val_acc: 0.8592\n",
      "Epoch 5/10\n",
      "48000/48000 [==============================] - 45s - loss: 0.4060 - acc: 0.8514 - val_loss: 0.3448 - val_acc: 0.8736\n",
      "Epoch 6/10\n",
      "48000/48000 [==============================] - 51s - loss: 0.3783 - acc: 0.8627 - val_loss: 0.3271 - val_acc: 0.8813\n",
      "Epoch 7/10\n",
      "48000/48000 [==============================] - 44s - loss: 0.3592 - acc: 0.8679 - val_loss: 0.3073 - val_acc: 0.8873\n",
      "Epoch 8/10\n",
      "48000/48000 [==============================] - 39s - loss: 0.3434 - acc: 0.8752 - val_loss: 0.2978 - val_acc: 0.8931\n",
      "Epoch 9/10\n",
      "48000/48000 [==============================] - 47s - loss: 0.3263 - acc: 0.8806 - val_loss: 0.2785 - val_acc: 0.8991\n",
      "Epoch 10/10\n",
      "48000/48000 [==============================] - 43s - loss: 0.3178 - acc: 0.8832 - val_loss: 0.2828 - val_acc: 0.8944\n"
     ]
    },
    {
     "data": {
      "text/plain": [
       "<keras.callbacks.History at 0x7fac8d575e10>"
      ]
     },
     "execution_count": 28,
     "metadata": {},
     "output_type": "execute_result"
    }
   ],
   "source": [
    "cnn2.fit(X_train, y_train,\n",
    "          batch_size=batch_size,\n",
    "          epochs=10,\n",
    "          verbose=1,\n",
    "          validation_data=(X_val, y_val))"
   ]
  },
  {
   "cell_type": "code",
   "execution_count": null,
   "metadata": {
    "_cell_guid": "756fe3d6-669f-4bf0-99b3-7623dfbabed0",
    "_uuid": "6696140f171a18fa209b82920e43d93e18c8f70b",
    "collapsed": true
   },
   "outputs": [],
   "source": [
    "cnn2.optimizer.lr = 0.0001"
   ]
  },
  {
   "cell_type": "code",
   "execution_count": null,
   "metadata": {
    "_cell_guid": "8d9befdc-1c10-43dc-a0fb-b9f4399d168f",
    "_uuid": "c0f5f195a1a178efd99bd5e6a60bfe4d351daec9",
    "scrolled": true
   },
   "outputs": [
    {
     "name": "stdout",
     "output_type": "stream",
     "text": [
      "Train on 48000 samples, validate on 12000 samples\n",
      "Epoch 1/10\n",
      "48000/48000 [==============================] - 46s - loss: 0.3070 - acc: 0.8878 - val_loss: 0.2655 - val_acc: 0.9018\n",
      "Epoch 2/10\n",
      "48000/48000 [==============================] - 41s - loss: 0.2966 - acc: 0.8924 - val_loss: 0.2612 - val_acc: 0.9047\n",
      "Epoch 3/10\n",
      "48000/48000 [==============================] - 50s - loss: 0.2905 - acc: 0.8933 - val_loss: 0.2624 - val_acc: 0.9024\n",
      "Epoch 4/10\n",
      "48000/48000 [==============================] - 45s - loss: 0.2799 - acc: 0.8981 - val_loss: 0.2619 - val_acc: 0.9015\n",
      "Epoch 5/10\n",
      "48000/48000 [==============================] - 41s - loss: 0.2720 - acc: 0.9000 - val_loss: 0.2456 - val_acc: 0.9073\n",
      "Epoch 6/10\n",
      "48000/48000 [==============================] - 41s - loss: 0.2636 - acc: 0.9037 - val_loss: 0.2433 - val_acc: 0.9094\n",
      "Epoch 7/10\n",
      "48000/48000 [==============================] - 39s - loss: 0.2594 - acc: 0.9053 - val_loss: 0.2377 - val_acc: 0.9119\n",
      "Epoch 8/10\n",
      "48000/48000 [==============================] - 39s - loss: 0.2541 - acc: 0.9080 - val_loss: 0.2315 - val_acc: 0.9133\n",
      "Epoch 9/10\n",
      "48000/48000 [==============================] - 40s - loss: 0.2522 - acc: 0.9071 - val_loss: 0.2334 - val_acc: 0.9109\n",
      "Epoch 10/10\n",
      "48000/48000 [==============================] - 40s - loss: 0.2456 - acc: 0.9100 - val_loss: 0.2306 - val_acc: 0.9148\n"
     ]
    },
    {
     "data": {
      "text/plain": [
       "<keras.callbacks.History at 0x7fac8d198860>"
      ]
     },
     "execution_count": 30,
     "metadata": {},
     "output_type": "execute_result"
    }
   ],
   "source": [
    "cnn2.fit(X_train, y_train,\n",
    "          batch_size=batch_size,\n",
    "          epochs=10,\n",
    "          verbose=1,\n",
    "          validation_data=(X_val, y_val))"
   ]
  },
  {
   "cell_type": "code",
   "execution_count": null,
   "metadata": {
    "_cell_guid": "76f30a40-8cf7-47df-bdf3-204e34ace668",
    "_uuid": "aaf3aedf8e97d64a18c3a5b4a4b190414bdb88f9"
   },
   "outputs": [
    {
     "name": "stdout",
     "output_type": "stream",
     "text": [
      "Test loss: 0.199658347356\n",
      "Test accuracy: 0.92745\n"
     ]
    }
   ],
   "source": [
    "score = cnn2.evaluate(X_test, y_test, verbose=0)\n",
    "print('Test loss:', score[0])\n",
    "print('Test accuracy:', score[1])"
   ]
  },
  {
   "cell_type": "markdown",
   "metadata": {
    "_cell_guid": "3fc437c3-2bfc-4a29-bf53-9b49e65178c5",
    "_uuid": "7ebd97d647bb2deee29e96d95e834cbc82b6fd73"
   },
   "source": [
    "### Data Augmentation"
   ]
  },
  {
   "cell_type": "code",
   "execution_count": null,
   "metadata": {
    "_cell_guid": "eb21a4d4-bd2a-4ae0-b748-ff7debcd92c5",
    "_uuid": "0628869dd09db2490daf7303cf5d5a689d3e71e5",
    "scrolled": true
   },
   "outputs": [
    {
     "name": "stdout",
     "output_type": "stream",
     "text": [
      "Epoch 1/50\n",
      "93/93 [==============================] - 45s - loss: 0.4715 - acc: 0.8230 - val_loss: 0.3830 - val_acc: 0.8561\n",
      "Epoch 2/50\n",
      "93/93 [==============================] - 44s - loss: 0.4257 - acc: 0.8395 - val_loss: 0.3579 - val_acc: 0.8644\n",
      "Epoch 3/50\n",
      "93/93 [==============================] - 47s - loss: 0.4010 - acc: 0.8486 - val_loss: 0.3463 - val_acc: 0.8703\n",
      "Epoch 4/50\n",
      "93/93 [==============================] - 42s - loss: 0.4007 - acc: 0.8502 - val_loss: 0.3408 - val_acc: 0.8721\n",
      "Epoch 5/50\n",
      "93/93 [==============================] - 43s - loss: 0.3853 - acc: 0.8556 - val_loss: 0.3333 - val_acc: 0.8758\n",
      "Epoch 6/50\n",
      "93/93 [==============================] - 44s - loss: 0.3786 - acc: 0.8592 - val_loss: 0.3399 - val_acc: 0.8708\n",
      "Epoch 7/50\n",
      "93/93 [==============================] - 45s - loss: 0.3761 - acc: 0.8595 - val_loss: 0.3140 - val_acc: 0.8826\n",
      "Epoch 8/50\n",
      "93/93 [==============================] - 43s - loss: 0.3677 - acc: 0.8625 - val_loss: 0.3297 - val_acc: 0.8747\n",
      "Epoch 9/50\n",
      "93/93 [==============================] - 44s - loss: 0.3580 - acc: 0.8680 - val_loss: 0.3187 - val_acc: 0.8823\n",
      "Epoch 10/50\n",
      "93/93 [==============================] - 46s - loss: 0.3622 - acc: 0.8642 - val_loss: 0.3210 - val_acc: 0.8770\n",
      "Epoch 11/50\n",
      "93/93 [==============================] - 44s - loss: 0.3518 - acc: 0.8680 - val_loss: 0.3064 - val_acc: 0.8869\n",
      "Epoch 12/50\n",
      "93/93 [==============================] - 51s - loss: 0.3526 - acc: 0.8682 - val_loss: 0.3133 - val_acc: 0.8819\n",
      "Epoch 13/50\n",
      "93/93 [==============================] - 47s - loss: 0.3469 - acc: 0.8708 - val_loss: 0.3285 - val_acc: 0.8758\n",
      "Epoch 14/50\n",
      "93/93 [==============================] - 48s - loss: 0.3509 - acc: 0.8686 - val_loss: 0.3089 - val_acc: 0.8807\n",
      "Epoch 15/50\n",
      "93/93 [==============================] - 50s - loss: 0.3389 - acc: 0.8745 - val_loss: 0.2961 - val_acc: 0.8862\n",
      "Epoch 16/50\n",
      "93/93 [==============================] - 48s - loss: 0.3403 - acc: 0.8725 - val_loss: 0.3058 - val_acc: 0.8864\n",
      "Epoch 17/50\n",
      "93/93 [==============================] - 48s - loss: 0.3451 - acc: 0.8708 - val_loss: 0.3012 - val_acc: 0.8877\n",
      "Epoch 18/50\n",
      "93/93 [==============================] - 49s - loss: 0.3300 - acc: 0.8774 - val_loss: 0.2919 - val_acc: 0.8916\n",
      "Epoch 19/50\n",
      "93/93 [==============================] - 48s - loss: 0.3329 - acc: 0.8763 - val_loss: 0.2886 - val_acc: 0.8877\n",
      "Epoch 20/50\n",
      "62/93 [===================>..........] - ETA: 14s - loss: 0.3313 - acc: 0.8769"
     ]
    }
   ],
   "source": [
    "cnn2.fit_generator(batches, steps_per_epoch=48000//batch_size, epochs=50, \n",
    "                    validation_data=val_batches, validation_steps=12000//batch_size, use_multiprocessing=False)"
   ]
  },
  {
   "cell_type": "code",
   "execution_count": null,
   "metadata": {
    "_cell_guid": "2aa9d5ff-3435-4e54-bcc6-2c26164f0219",
    "_uuid": "05d45cd4e3a7259a029baf9e6af9aceba0fac9c0",
    "collapsed": true
   },
   "outputs": [],
   "source": [
    "score = cnn2.evaluate(X_test, y_test, verbose=0)\n",
    "print('Test loss:', score[0])\n",
    "print('Test accuracy:', score[1])"
   ]
  },
  {
   "cell_type": "markdown",
   "metadata": {
    "_cell_guid": "10a1a541-bdd7-42e9-ac3c-2cf8c978f088",
    "_uuid": "366dc1e910b545a7cdb80c2bded9198e1240a2c3",
    "collapsed": true
   },
   "source": [
    "# CNN with 4 Convolutional Layers and Batch Normalization"
   ]
  },
  {
   "cell_type": "code",
   "execution_count": null,
   "metadata": {
    "_cell_guid": "7279a94b-b8f6-4f4f-8118-dc8b231a3a7a",
    "_uuid": "4ee504c13a01591ac6b8cd210c0aa9f31816dc15",
    "collapsed": true
   },
   "outputs": [],
   "source": [
    "mean_px = X_train.mean().astype(np.float32)\n",
    "std_px = X_train.std().astype(np.float32)\n",
    "def norm_input(x): return (x-mean_px)/std_px"
   ]
  },
  {
   "cell_type": "code",
   "execution_count": null,
   "metadata": {
    "_cell_guid": "e924f3b7-58f5-42cd-bce2-72f48675289f",
    "_uuid": "3d84d2f100c284d2203fbaf7466a79d9cd60e6a9",
    "collapsed": true
   },
   "outputs": [],
   "source": [
    "cnn3 = Sequential([\n",
    "    Lambda(norm_input, input_shape=(28,28, 1)),\n",
    "    Conv2D(32, kernel_size=(3, 3), activation='relu', input_shape=input_shape),\n",
    "    BatchNormalization(),\n",
    "\n",
    "    Conv2D(32, kernel_size=(3, 3), activation='relu'),    \n",
    "    BatchNormalization(),\n",
    "    Dropout(0.25),\n",
    "\n",
    "    Conv2D(64, kernel_size=(3, 3), activation='relu'),    \n",
    "    MaxPooling2D(pool_size=(2, 2)),\n",
    "    Dropout(0.25),\n",
    "    \n",
    "    \n",
    "    Conv2D(128, kernel_size=(3, 3), activation='relu'),    \n",
    "    BatchNormalization(),\n",
    "    Dropout(0.25),\n",
    "\n",
    "    Flatten(),\n",
    "\n",
    "    Dense(512, activation='relu'),\n",
    "    BatchNormalization(),\n",
    "    Dropout(0.5),\n",
    "    Dense(128, activation='relu'),\n",
    "    BatchNormalization(),\n",
    "    Dropout(0.5),\n",
    "    Dense(10, activation='softmax')\n",
    "])"
   ]
  },
  {
   "cell_type": "code",
   "execution_count": null,
   "metadata": {
    "_cell_guid": "7ccbca3b-9a2e-4c22-b4a9-733df4b79440",
    "_uuid": "30b2f0d7a0a2526671eba3da6e431990bc675e09",
    "collapsed": true
   },
   "outputs": [],
   "source": [
    "cnn3.compile(loss='sparse_categorical_crossentropy',\n",
    "              optimizer=Adam(lr=0.001),\n",
    "              metrics=['accuracy'])"
   ]
  },
  {
   "cell_type": "code",
   "execution_count": null,
   "metadata": {
    "_cell_guid": "7662b8db-1d62-4477-ab2e-e96fb43fd1c6",
    "_uuid": "fb9786318084735f4c0e18c2cacd392bcea51635",
    "collapsed": true
   },
   "outputs": [],
   "source": [
    "cnn3.fit(X_train, y_train,\n",
    "          batch_size=batch_size,\n",
    "          epochs=10,\n",
    "          verbose=1,\n",
    "          validation_data=(X_val, y_val))"
   ]
  },
  {
   "cell_type": "code",
   "execution_count": null,
   "metadata": {
    "_cell_guid": "6be0a968-ecec-4aa5-bd76-9400a109d3bc",
    "_uuid": "d7b5e3f179fc455938a0f2ac37862a57c9b1ac67",
    "collapsed": true
   },
   "outputs": [],
   "source": [
    "cnn3.optimizer.lr = 0.0001"
   ]
  },
  {
   "cell_type": "code",
   "execution_count": null,
   "metadata": {
    "_cell_guid": "b13bd04a-a499-417b-8331-324076ccb635",
    "_uuid": "461ef6e8ee63dcc7633e7f8e84365ec07065c2d6",
    "collapsed": true
   },
   "outputs": [],
   "source": [
    "cnn3.fit(X_train, y_train,\n",
    "          batch_size=batch_size,\n",
    "          epochs=10,\n",
    "          verbose=1,\n",
    "          validation_data=(X_val, y_val))"
   ]
  },
  {
   "cell_type": "code",
   "execution_count": null,
   "metadata": {
    "_cell_guid": "049bbd42-e419-4616-ab06-55be11587f30",
    "_uuid": "ae7a2faefe03fe44553d743ece6a2658a5503296",
    "collapsed": true
   },
   "outputs": [],
   "source": [
    "score = cnn3.evaluate(X_test, y_test, verbose=0)\n",
    "print('Test loss:', score[0])\n",
    "print('Test accuracy:', score[1])"
   ]
  },
  {
   "cell_type": "markdown",
   "metadata": {
    "_cell_guid": "4cae0d4b-9170-4fa4-a353-c31f5a2cc2f6",
    "_uuid": "0e9139ed004d72144f9a8cc3bc54108ea51dd0aa"
   },
   "source": [
    "### Data Augmentation"
   ]
  },
  {
   "cell_type": "code",
   "execution_count": null,
   "metadata": {
    "_cell_guid": "74e55533-2d02-45b6-a4ff-100f4149ce70",
    "_uuid": "877aef5501b0a611dd8b259d0feb24d0f5cd441e",
    "collapsed": true,
    "scrolled": true
   },
   "outputs": [],
   "source": [
    "cnn3.fit_generator(batches, steps_per_epoch=48000//batch_size, epochs=50, \n",
    "                    validation_data=val_batches, validation_steps=12000//batch_size, use_multiprocessing=False)"
   ]
  },
  {
   "cell_type": "code",
   "execution_count": null,
   "metadata": {
    "_cell_guid": "9a3e46a6-0dc6-42eb-baf4-2c628a027402",
    "_uuid": "3e5dd09b6e4ef8cabf160d03ff420ab38adb44c5",
    "collapsed": true
   },
   "outputs": [],
   "source": [
    "score = cnn3.evaluate(X_test, y_test, verbose=0)\n",
    "print('Test loss:', score[0])\n",
    "print('Test accuracy:', score[1])"
   ]
  },
  {
   "cell_type": "markdown",
   "metadata": {
    "_cell_guid": "4b5acdde-7a3e-4665-8922-6a8829e8095e",
    "_uuid": "3ce63ba15baf0193c3fa5d145a7a2138e1237597",
    "collapsed": true
   },
   "source": [
    "# VGG Like Model"
   ]
  },
  {
   "cell_type": "code",
   "execution_count": null,
   "metadata": {
    "_cell_guid": "e19c4015-829c-4006-8698-fd31ea4aaae6",
    "_uuid": "2b805761aaeff74ad534b67e179311238c07e73e",
    "collapsed": true
   },
   "outputs": [],
   "source": [
    "cnn4 = Sequential([\n",
    "    Lambda(norm_input, input_shape=(28,28, 1)),\n",
    "    Conv2D(32, kernel_size=(3, 3), activation='relu', padding='same', input_shape=input_shape),\n",
    "    Conv2D(32, kernel_size=(3, 3), activation='relu', padding='same'),\n",
    "    MaxPooling2D(pool_size=(2, 2)),\n",
    "    \n",
    "    \n",
    "    Conv2D(64, kernel_size=(3, 3), activation='relu', padding='same'),\n",
    "    Conv2D(64, kernel_size=(3, 3), activation='relu', padding='same'),    \n",
    "    MaxPooling2D(pool_size=(2, 2)),\n",
    "    \n",
    "    \n",
    "    Conv2D(128, kernel_size=(3, 3), activation='relu', padding='same'),\n",
    "    Conv2D(128, kernel_size=(3, 3), activation='relu', padding='same'),    \n",
    "    MaxPooling2D(pool_size=(2, 2)),\n",
    "    \n",
    "    \n",
    "    Conv2D(256, kernel_size=(3, 3), activation='relu', padding='same'),\n",
    "    Conv2D(256, kernel_size=(3, 3), activation='relu', padding='same'),\n",
    "    Conv2D(256, kernel_size=(3, 3), activation='relu', padding='same'),\n",
    "    MaxPooling2D(pool_size=(2, 2)),\n",
    "\n",
    "    Flatten(),\n",
    "\n",
    "    Dense(512, activation='relu'),\n",
    "    Dropout(0.5),\n",
    "    Dense(512, activation='relu'),\n",
    "    Dropout(0.5),\n",
    "    Dense(10, activation='softmax')\n",
    "])"
   ]
  },
  {
   "cell_type": "code",
   "execution_count": null,
   "metadata": {
    "_cell_guid": "39bc21ba-f1f3-442f-96e4-86ac10fbf097",
    "_uuid": "d128f882583aaf1cf0b3d3fb9ef9561c763208eb",
    "collapsed": true
   },
   "outputs": [],
   "source": [
    "cnn4.compile(loss='sparse_categorical_crossentropy',\n",
    "              optimizer=Adam(lr=0.001),\n",
    "              metrics=['accuracy'])"
   ]
  },
  {
   "cell_type": "code",
   "execution_count": null,
   "metadata": {
    "_cell_guid": "97598773-82fc-4728-877d-55b298eefbe1",
    "_uuid": "d5cfb542c98c707e6ce5e249e39ba8da5f21b1c8",
    "collapsed": true
   },
   "outputs": [],
   "source": [
    "cnn4.fit(X_train, y_train,\n",
    "          batch_size=batch_size,\n",
    "          epochs=10,\n",
    "          verbose=1,\n",
    "          validation_data=(X_val, y_val))"
   ]
  },
  {
   "cell_type": "code",
   "execution_count": null,
   "metadata": {
    "_cell_guid": "40249ce7-f506-42b2-8fe4-6bf0bb5b6b1e",
    "_uuid": "e3fabf93f6bd66dea71e4df66bed77af7395fcd8",
    "collapsed": true
   },
   "outputs": [],
   "source": [
    "cnn4.optimizer.lr = 0.0001"
   ]
  },
  {
   "cell_type": "code",
   "execution_count": null,
   "metadata": {
    "_cell_guid": "1d2a00ef-0156-49e9-91ac-358c878dda96",
    "_uuid": "8b7f3d88dabe9cc31621a5e11788fa6c04333b78",
    "collapsed": true
   },
   "outputs": [],
   "source": [
    "cnn4.fit(X_train, y_train,\n",
    "          batch_size=batch_size,\n",
    "          epochs=10,\n",
    "          verbose=1,\n",
    "          validation_data=(X_val, y_val))"
   ]
  },
  {
   "cell_type": "code",
   "execution_count": null,
   "metadata": {
    "_cell_guid": "65fe365a-9bc9-4679-bc82-02da31a5b916",
    "_uuid": "4be6664f184659d15d3036e816ce292c9e51c14f",
    "collapsed": true
   },
   "outputs": [],
   "source": [
    "score = cnn4.evaluate(X_test, y_test, verbose=0)\n",
    "print('Test loss:', score[0])\n",
    "print('Test accuracy:', score[1])"
   ]
  },
  {
   "cell_type": "markdown",
   "metadata": {
    "_cell_guid": "1307ca97-5075-4c79-bc72-4a40b857b706",
    "_uuid": "2254d7c89375af8c4de0b9a552d0766170bd270f"
   },
   "source": [
    "### Data Augmentation"
   ]
  },
  {
   "cell_type": "code",
   "execution_count": null,
   "metadata": {
    "_cell_guid": "a222d2a0-ed56-4137-a93e-44ca2be12383",
    "_uuid": "3463e5b985fafcd6e3894b1f8bec0250b6f874c6",
    "collapsed": true,
    "scrolled": true
   },
   "outputs": [],
   "source": [
    "cnn4.fit_generator(batches, steps_per_epoch=48000//batch_size, epochs=50, \n",
    "                    validation_data=val_batches, validation_steps=12000//batch_size, use_multiprocessing=False)"
   ]
  },
  {
   "cell_type": "code",
   "execution_count": null,
   "metadata": {
    "_cell_guid": "f2c78e33-9ac0-46de-9fa3-18f0bc2ed684",
    "_uuid": "af008be62b70d7b2ad48a4bbdb785c12f10eb881",
    "collapsed": true
   },
   "outputs": [],
   "source": [
    "score = cnn4.evaluate(X_test, y_test, verbose=0)\n",
    "print('Test loss:', score[0])\n",
    "print('Test accuracy:', score[1])"
   ]
  },
  {
   "cell_type": "code",
   "execution_count": null,
   "metadata": {
    "_cell_guid": "4f7b9851-7889-45fe-8b1c-65467dc7632e",
    "_uuid": "91f1207fff1abe19a462fc241455960ce470653f",
    "collapsed": true
   },
   "outputs": [],
   "source": []
  },
  {
   "cell_type": "markdown",
   "metadata": {
    "_cell_guid": "2edeaaee-cfca-4fd5-a193-11b5a5ca7145",
    "_uuid": "b0ded73af8b7331f02763837c8a2fee7a8268968",
    "collapsed": true
   },
   "source": [
    "# VGG Like Model With Batchnorm"
   ]
  },
  {
   "cell_type": "code",
   "execution_count": null,
   "metadata": {
    "_cell_guid": "5f43ca1a-d437-4cd4-9d81-ea5080a84395",
    "_uuid": "5d646953587ec02a843abebfa8d86c5129c7f890",
    "collapsed": true
   },
   "outputs": [],
   "source": [
    "cnn5 = Sequential([\n",
    "    Lambda(norm_input, input_shape=(28,28, 1)),\n",
    "    Conv2D(32, kernel_size=(3, 3), activation='relu', padding='same', input_shape=input_shape),\n",
    "    Conv2D(32, kernel_size=(3, 3), activation='relu', padding='same'),\n",
    "    BatchNormalization(),\n",
    "    Dropout(0.25),\n",
    "    \n",
    "    Conv2D(64, kernel_size=(3, 3), activation='relu', padding='same'),\n",
    "    Conv2D(64, kernel_size=(3, 3), activation='relu', padding='same'),    \n",
    "    MaxPooling2D(pool_size=(2, 2)),\n",
    "    Dropout(0.25),\n",
    "    \n",
    "    Conv2D(128, kernel_size=(3, 3), activation='relu', padding='same'),\n",
    "    Conv2D(128, kernel_size=(3, 3), activation='relu', padding='same'),    \n",
    "    BatchNormalization(),\n",
    "    Dropout(0.25),\n",
    "    \n",
    "    Conv2D(256, kernel_size=(3, 3), activation='relu', padding='same'),\n",
    "    Conv2D(256, kernel_size=(3, 3), activation='relu', padding='same'),\n",
    "    Conv2D(256, kernel_size=(3, 3), activation='relu', padding='same'),\n",
    "    MaxPooling2D(pool_size=(2, 2)),\n",
    "\n",
    "    Flatten(),\n",
    "\n",
    "    Dense(512, activation='relu'),\n",
    "    BatchNormalization(),\n",
    "    Dropout(0.5),\n",
    "    Dense(512, activation='relu'),\n",
    "    BatchNormalization(),\n",
    "    Dropout(0.5),\n",
    "    Dense(10, activation='softmax')\n",
    "])"
   ]
  },
  {
   "cell_type": "code",
   "execution_count": null,
   "metadata": {
    "_cell_guid": "8b1b0422-a805-4a65-8283-d475cd842585",
    "_uuid": "afea0e2de2a7b53351348b63e3f8b7060eeec246",
    "collapsed": true
   },
   "outputs": [],
   "source": [
    "cnn5.compile(loss='sparse_categorical_crossentropy',\n",
    "              optimizer=Adam(lr=0.001),\n",
    "              metrics=['accuracy'])"
   ]
  },
  {
   "cell_type": "code",
   "execution_count": null,
   "metadata": {
    "_cell_guid": "ab57213f-5917-4a7c-b93a-adb8472e0dbf",
    "_uuid": "acd5601eec1c62d4bc0ab4576f0aecbceec50484",
    "collapsed": true
   },
   "outputs": [],
   "source": [
    "cnn5.fit(X_train, y_train,\n",
    "          batch_size=batch_size,\n",
    "          epochs=10,\n",
    "          verbose=1,\n",
    "          validation_data=(X_val, y_val))"
   ]
  },
  {
   "cell_type": "code",
   "execution_count": null,
   "metadata": {
    "_cell_guid": "6fc5bc49-8535-4a32-be19-95ad0056431f",
    "_uuid": "6237657af46270977ea886a96124b729044b16b7",
    "collapsed": true
   },
   "outputs": [],
   "source": [
    "cnn5.optimizer.lr = 0.0001"
   ]
  },
  {
   "cell_type": "code",
   "execution_count": null,
   "metadata": {
    "_cell_guid": "59dc9478-af38-4f70-88f6-81a6317a930c",
    "_uuid": "eaddabd5a9bdbe69e324bb2086fa1e708adadc93",
    "collapsed": true
   },
   "outputs": [],
   "source": [
    "cnn5.fit(X_train, y_train,\n",
    "          batch_size=batch_size,\n",
    "          epochs=10,\n",
    "          verbose=1,\n",
    "          validation_data=(X_val, y_val))"
   ]
  },
  {
   "cell_type": "code",
   "execution_count": null,
   "metadata": {
    "_cell_guid": "0198944d-d598-4156-a580-cdae9359cb1d",
    "_uuid": "9f1b09ed038237ada71524c977528a0fdcf275fb",
    "collapsed": true
   },
   "outputs": [],
   "source": [
    "score = cnn5.evaluate(X_test, y_test, verbose=0)\n",
    "print('Test loss:', score[0])\n",
    "print('Test accuracy:', score[1])"
   ]
  },
  {
   "cell_type": "markdown",
   "metadata": {
    "_cell_guid": "a75a91e1-e42f-4a91-b2fc-2fb88ef46bd9",
    "_uuid": "54b81e2c78ab8a5150da36d35bae9c9cead6603a"
   },
   "source": [
    "### Data Augmentation"
   ]
  },
  {
   "cell_type": "code",
   "execution_count": null,
   "metadata": {
    "_cell_guid": "5a55022b-0f5f-4bfc-a22f-4476dfea47c4",
    "_uuid": "cb4c3b678e203b64bffee11ced70325ea3ba54f4",
    "collapsed": true,
    "scrolled": true
   },
   "outputs": [],
   "source": [
    "cnn5.fit_generator(batches, steps_per_epoch=48000//batch_size, epochs=50, \n",
    "                    validation_data=val_batches, validation_steps=12000//batch_size, use_multiprocessing=False)"
   ]
  },
  {
   "cell_type": "code",
   "execution_count": null,
   "metadata": {
    "_cell_guid": "4908dcc6-7191-469a-8dc5-24bc565df50b",
    "_uuid": "a4e74d6bf1dbaff85e9c04c24f102111098f502b",
    "collapsed": true
   },
   "outputs": [],
   "source": [
    "score = cnn5.evaluate(X_test, y_test, verbose=0)\n",
    "print('Test loss:', score[0])\n",
    "print('Test accuracy:', score[1])"
   ]
  },
  {
   "cell_type": "code",
   "execution_count": null,
   "metadata": {
    "_cell_guid": "749e1e63-f828-4eb2-bf3b-510d97340f47",
    "_uuid": "902fb1bfb8023a346d6907929de043d9f2f32a01",
    "collapsed": true
   },
   "outputs": [],
   "source": []
  },
  {
   "cell_type": "code",
   "execution_count": null,
   "metadata": {
    "_cell_guid": "d7a040de-23d1-4c47-95cf-11770c29a8c5",
    "_uuid": "92425967c90855b4ea4004c06592f86e772d5cb0",
    "collapsed": true
   },
   "outputs": [],
   "source": []
  },
  {
   "cell_type": "code",
   "execution_count": null,
   "metadata": {
    "_cell_guid": "d1773fe7-3268-4a1c-a9d2-a14e82c80acf",
    "_uuid": "cffc1ceb3e877bb36734a17299f0d2385760543a",
    "collapsed": true
   },
   "outputs": [],
   "source": []
  },
  {
   "cell_type": "code",
   "execution_count": null,
   "metadata": {
    "_cell_guid": "bfabb197-2176-4abc-963d-535f32d0ef17",
    "_uuid": "55aa948d56bae4d424496e8b211ef5b693f8abd6",
    "collapsed": true
   },
   "outputs": [],
   "source": []
  }
 ],
 "metadata": {
  "kernelspec": {
   "display_name": "Python 3",
   "language": "python",
   "name": "python3"
  },
  "language_info": {
   "codemirror_mode": {
    "name": "ipython",
    "version": 3
   },
   "file_extension": ".py",
   "mimetype": "text/x-python",
   "name": "python",
   "nbconvert_exporter": "python",
   "pygments_lexer": "ipython3",
   "version": "3.8.8"
  }
 },
 "nbformat": 4,
 "nbformat_minor": 1
}
